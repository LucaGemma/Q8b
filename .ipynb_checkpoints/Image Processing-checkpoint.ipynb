{
 "cells": [
  {
   "cell_type": "code",
   "execution_count": 1,
   "id": "7af106e0",
   "metadata": {},
   "outputs": [
    {
     "name": "stdout",
     "output_type": "stream",
     "text": [
      "width=328, height=517, depth=3\n",
      "R=159, G=148, B=146\n",
      "GR=151\n",
      "Integral=286998\n"
     ]
    },
    {
     "data": {
      "text/plain": [
       "-1"
      ]
     },
     "execution_count": 1,
     "metadata": {},
     "output_type": "execute_result"
    }
   ],
   "source": [
    "import argparse\n",
    "import cv2\n",
    "import imutils\n",
    "import numpy as np\n",
    "\n",
    "#Set the path for the image to be opened\n",
    "path = r'C:\\Users\\lucag\\Desktop\\test.jpg'\n",
    "#Open the image\n",
    "image = cv2.imread(path)\n",
    "\n",
    "#Get image dimensions\n",
    "(h, w, d) = image.shape # getting image dimensions (height, width, depth, a.k.a. channels)\n",
    "print(\"width={}, height={}, depth={}\".format(w, h, d))\n",
    "\n",
    "#Get the three channel values for a single pixel\n",
    "(B, G, R) = image[100, 50]\n",
    "print(\"R={}, G={}, B={}\".format(R, G, B))\n",
    "\n",
    "#Resize the image keeping the aspect ratio\n",
    "new_width = 100.0\n",
    "r = new_width / w\n",
    "dim = (int(new_width), int(h * r))\n",
    "resized = cv2.resize(image, dim)\n",
    "cv2.imshow(\"Aspect Ratio Resize\", resized)\n",
    "\n",
    "#OR, with imutils\n",
    "resized = imutils.resize(image, width=300)\n",
    "cv2.imshow(\"Imutils Resize\", resized)\n",
    "\n",
    "#Blur the image to reduce noise\n",
    "blurred = cv2.GaussianBlur(image, (11, 11), 0)\n",
    "cv2.imshow(\"Blurred\", blurred)\n",
    "\n",
    "#Draw a rectangle\n",
    "output = image.copy()\n",
    "tl_vertex = (20, 160)\n",
    "br_vertex = (40, 60)\n",
    "bl_vertex = (tl_vertex[0], br_vertex[1])\n",
    "tr_vertex = (br_vertex[0], tl_vertex[1])\n",
    "\n",
    "cv2.rectangle(output, tl_vertex, br_vertex, (0, 0, 255), 2) #(source_image, top left corner, bottom right corner, color, thickness)\n",
    "cv2.imshow(\"Rectangle\", output)\n",
    "\n",
    "#convert to Grayscale\n",
    "gray = cv2.cvtColor(image, cv2.COLOR_BGR2GRAY)\n",
    "cv2.imshow(\"Gray\", gray)\n",
    "\n",
    "GR = gray[100, 50]\n",
    "\n",
    "integral = np.sum(gray[bl_vertex[1]:tl_vertex[1], bl_vertex[0]:br_vertex[0]])\n",
    "print(\"GR={}\".format(GR))\n",
    "print(\"Integral={}\".format(integral))\n",
    "\n",
    "cv2.imshow(\"image\", image)\n",
    "cv2.waitKey(0)"
   ]
  },
  {
   "cell_type": "code",
   "execution_count": 2,
   "id": "89126c83",
   "metadata": {},
   "outputs": [
    {
     "name": "stdout",
     "output_type": "stream",
     "text": [
      "Dragged rectangle coordinates\n",
      "18,50,28,96\n"
     ]
    }
   ],
   "source": [
    "import sys\n",
    "import argparse\n",
    "import cv2\n",
    "import imutils\n",
    "import numpy as np\n",
    "username = 'PC' # 'admin' for BO1 lab\n",
    "sys.path.append('c:/users/'+ username +'/miniconda3/lib/site-packages')\n",
    "path_to_selectinwindow = './MyCustomPackage/opencvdragrect-master' # relative path to the MyCustomPackage folder \n",
    "sys.path.append(path_to_selectinwindow)\n",
    "import selectinwindow\n",
    "\n",
    "# Initialize the  drag object\n",
    "wName = \"select region\"\n",
    "imageWidth = 320\n",
    "imageHeight = 240\n",
    "#image = np.ones([imageHeight, imageWidth, 3], dtype=np.uint8)  # OR read an image using imread()\n",
    "#image *= 255\n",
    "\n",
    "# Define the drag object\n",
    "rectI = selectinwindow.DragRectangle(gray, wName, imageWidth, imageHeight)\n",
    "\n",
    "cv2.namedWindow(rectI.wname)\n",
    "cv2.setMouseCallback(rectI.wname, selectinwindow.dragrect, rectI)\n",
    "\n",
    "# keep looping until rectangle finalized\n",
    "while True:\n",
    "    # display the image\n",
    "    cv2.imshow(wName, rectI.image)\n",
    "    key = cv2.waitKey(1) & 0xFF\n",
    "\n",
    "    # if returnflag is True, break from the loop\n",
    "    if rectI.returnflag:\n",
    "        break\n",
    "\n",
    "print(\"Dragged rectangle coordinates\")\n",
    "print(str(rectI.outRect.x) + ',' + str(rectI.outRect.y) + ',' + \\\n",
    "      str(rectI.outRect.w) + ',' + str(rectI.outRect.h))\n",
    "\n",
    "# close all open windows\n",
    "cv2.destroyAllWindows()"
   ]
  },
  {
   "cell_type": "code",
   "execution_count": null,
   "id": "29b7b702",
   "metadata": {},
   "outputs": [],
   "source": []
  },
  {
   "cell_type": "code",
   "execution_count": null,
   "id": "515214c2",
   "metadata": {},
   "outputs": [],
   "source": []
  }
 ],
 "metadata": {
  "kernelspec": {
   "display_name": "Python 3",
   "language": "python",
   "name": "python3"
  },
  "language_info": {
   "codemirror_mode": {
    "name": "ipython",
    "version": 3
   },
   "file_extension": ".py",
   "mimetype": "text/x-python",
   "name": "python",
   "nbconvert_exporter": "python",
   "pygments_lexer": "ipython3",
   "version": "3.8.8"
  }
 },
 "nbformat": 4,
 "nbformat_minor": 5
}
