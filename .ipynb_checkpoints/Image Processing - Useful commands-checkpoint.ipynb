{
 "cells": [
  {
   "cell_type": "markdown",
   "id": "6c703b0b",
   "metadata": {},
   "source": [
    "## Useful commands\n",
    "\n",
    "How to get image dimensions, resize, blur, draw rectangles and convert to grayscale."
   ]
  },
  {
   "cell_type": "code",
   "execution_count": null,
   "id": "626f80ea",
   "metadata": {},
   "outputs": [],
   "source": [
    "import argparse\n",
    "import cv2\n",
    "import imutils\n",
    "import numpy as np\n",
    "import os\n",
    "\n",
    "#Set the path for the image to be opened\n",
    "path = r'C:\\Users\\lucag\\Desktop\\Images\\1.jpg'\n",
    "#Open the image\n",
    "image = cv2.imread(path)\n",
    "\n",
    "#Get image dimensions\n",
    "(h, w, d) = image.shape # getting image dimensions (height, width, depth, a.k.a. channels)\n",
    "print(\"width={}, height={}, depth={}\".format(w, h, d))\n",
    "\n",
    "#Get the three channel values for a single pixel\n",
    "(B, G, R) = image[100, 50]\n",
    "print(\"R={}, G={}, B={}\".format(R, G, B))\n",
    "\n",
    "#Resize the image keeping the aspect ratio\n",
    "new_width = 100.0\n",
    "r = new_width / w\n",
    "dim = (int(new_width), int(h * r))\n",
    "resized = cv2.resize(image, dim)\n",
    "cv2.imshow(\"Aspect Ratio Resize\", resized)\n",
    "\n",
    "#OR, with imutils\n",
    "resized = imutils.resize(image, width=300)\n",
    "cv2.imshow(\"Imutils Resize\", resized)\n",
    "\n",
    "#Blur the image to reduce noise\n",
    "blurred = cv2.GaussianBlur(image, (11, 11), 0)\n",
    "cv2.imshow(\"Blurred\", blurred)\n",
    "\n",
    "#Draw a rectangle\n",
    "output = image.copy()\n",
    "tl_vertex = (20, 160)\n",
    "br_vertex = (40, 60)\n",
    "bl_vertex = (tl_vertex[0], br_vertex[1])\n",
    "tr_vertex = (br_vertex[0], tl_vertex[1])\n",
    "\n",
    "cv2.rectangle(output, tl_vertex, br_vertex, (0, 0, 255), 2) #(source_image, top left corner, bottom right corner, color, thickness)\n",
    "cv2.imshow(\"Rectangle\", output)\n",
    "\n",
    "#convert to Grayscale\n",
    "gray = cv2.cvtColor(image, cv2.COLOR_BGR2GRAY)\n",
    "cv2.imshow(\"Gray\", gray)\n",
    "\n",
    "GR = gray[100, 50]\n",
    "\n",
    "integral = np.sum(gray[bl_vertex[1]:tl_vertex[1], bl_vertex[0]:br_vertex[0]]) #y1:y2, x1:x2\n",
    "print(\"GR={}\".format(GR))\n",
    "print(\"Integral={}\".format(integral))\n",
    "\n",
    "cv2.imshow(\"image\", image)\n",
    "cv2.waitKey(0)"
   ]
  }
 ],
 "metadata": {
  "kernelspec": {
   "display_name": "Python 3",
   "language": "python",
   "name": "python3"
  },
  "language_info": {
   "codemirror_mode": {
    "name": "ipython",
    "version": 3
   },
   "file_extension": ".py",
   "mimetype": "text/x-python",
   "name": "python",
   "nbconvert_exporter": "python",
   "pygments_lexer": "ipython3",
   "version": "3.8.8"
  }
 },
 "nbformat": 4,
 "nbformat_minor": 5
}
