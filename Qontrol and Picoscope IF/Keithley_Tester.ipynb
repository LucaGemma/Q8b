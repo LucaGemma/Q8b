{
 "cells": [
  {
   "cell_type": "code",
   "execution_count": 1,
   "metadata": {},
   "outputs": [
    {
     "ename": "VisaIOError",
     "evalue": "VI_ERROR_RSRC_NFOUND (-1073807343): Insufficient location information or the requested device or resource is not present in the system.",
     "output_type": "error",
     "traceback": [
      "\u001b[1;31m---------------------------------------------------------------------------\u001b[0m",
      "\u001b[1;31mVisaIOError\u001b[0m                               Traceback (most recent call last)",
      "Input \u001b[1;32mIn [1]\u001b[0m, in \u001b[0;36m<cell line: 15>\u001b[1;34m()\u001b[0m\n\u001b[0;32m      3\u001b[0m rm\u001b[38;5;241m.\u001b[39mlist_resources()\n\u001b[0;32m      5\u001b[0m \u001b[38;5;124;03m\"\"\"\u001b[39;00m\n\u001b[0;32m      6\u001b[0m \n\u001b[0;32m      7\u001b[0m \u001b[38;5;124;03m'ASRL1::INSTR',\u001b[39;00m\n\u001b[1;32m   (...)\u001b[0m\n\u001b[0;32m     12\u001b[0m \n\u001b[0;32m     13\u001b[0m \u001b[38;5;124;03m\"\"\"\u001b[39;00m\n\u001b[1;32m---> 15\u001b[0m keithley \u001b[38;5;241m=\u001b[39m \u001b[43mrm\u001b[49m\u001b[38;5;241;43m.\u001b[39;49m\u001b[43mopen_resource\u001b[49m\u001b[43m(\u001b[49m\u001b[38;5;124;43m'\u001b[39;49m\u001b[38;5;124;43m169.254.207.124\u001b[39;49m\u001b[38;5;124;43m'\u001b[39;49m\u001b[43m)\u001b[49m \u001b[38;5;66;03m#('USB0::0x1313::0x804F::M00552358::INSTR') <--- LASER DIODE\u001b[39;00m\n\u001b[0;32m     16\u001b[0m \u001b[38;5;28mprint\u001b[39m(keithley\u001b[38;5;241m.\u001b[39mquery(\u001b[38;5;124m'\u001b[39m\u001b[38;5;124m*IDN?\u001b[39m\u001b[38;5;124m'\u001b[39m))\n\u001b[0;32m     17\u001b[0m \u001b[38;5;28mprint\u001b[39m(keithley)\n",
      "File \u001b[1;32m~\\miniconda3\\lib\\site-packages\\pyvisa\\highlevel.py:3271\u001b[0m, in \u001b[0;36mResourceManager.open_resource\u001b[1;34m(self, resource_name, access_mode, open_timeout, resource_pyclass, **kwargs)\u001b[0m\n\u001b[0;32m   3242\u001b[0m \u001b[38;5;124;03m\"\"\"Return an instrument for the resource name.\u001b[39;00m\n\u001b[0;32m   3243\u001b[0m \n\u001b[0;32m   3244\u001b[0m \u001b[38;5;124;03mParameters\u001b[39;00m\n\u001b[1;32m   (...)\u001b[0m\n\u001b[0;32m   3267\u001b[0m \n\u001b[0;32m   3268\u001b[0m \u001b[38;5;124;03m\"\"\"\u001b[39;00m\n\u001b[0;32m   3270\u001b[0m \u001b[38;5;28;01mif\u001b[39;00m resource_pyclass \u001b[38;5;129;01mis\u001b[39;00m \u001b[38;5;28;01mNone\u001b[39;00m:\n\u001b[1;32m-> 3271\u001b[0m     info \u001b[38;5;241m=\u001b[39m \u001b[38;5;28;43mself\u001b[39;49m\u001b[38;5;241;43m.\u001b[39;49m\u001b[43mresource_info\u001b[49m\u001b[43m(\u001b[49m\u001b[43mresource_name\u001b[49m\u001b[43m,\u001b[49m\u001b[43m \u001b[49m\u001b[43mextended\u001b[49m\u001b[38;5;241;43m=\u001b[39;49m\u001b[38;5;28;43;01mTrue\u001b[39;49;00m\u001b[43m)\u001b[49m\n\u001b[0;32m   3273\u001b[0m     \u001b[38;5;28;01mtry\u001b[39;00m:\n\u001b[0;32m   3274\u001b[0m         \u001b[38;5;66;03m# When using querying extended resource info the resource_class is not\u001b[39;00m\n\u001b[0;32m   3275\u001b[0m         \u001b[38;5;66;03m# None\u001b[39;00m\n\u001b[0;32m   3276\u001b[0m         resource_pyclass \u001b[38;5;241m=\u001b[39m \u001b[38;5;28mself\u001b[39m\u001b[38;5;241m.\u001b[39m_resource_classes[\n\u001b[0;32m   3277\u001b[0m             (info\u001b[38;5;241m.\u001b[39minterface_type, info\u001b[38;5;241m.\u001b[39mresource_class)  \u001b[38;5;66;03m# type: ignore\u001b[39;00m\n\u001b[0;32m   3278\u001b[0m         ]\n",
      "File \u001b[1;32m~\\miniconda3\\lib\\site-packages\\pyvisa\\highlevel.py:3197\u001b[0m, in \u001b[0;36mResourceManager.resource_info\u001b[1;34m(self, resource_name, extended)\u001b[0m\n\u001b[0;32m   3185\u001b[0m \u001b[38;5;124;03m\"\"\"Get the (extended) information of a particular resource.\u001b[39;00m\n\u001b[0;32m   3186\u001b[0m \n\u001b[0;32m   3187\u001b[0m \u001b[38;5;124;03mParameters\u001b[39;00m\n\u001b[1;32m   (...)\u001b[0m\n\u001b[0;32m   3193\u001b[0m \n\u001b[0;32m   3194\u001b[0m \u001b[38;5;124;03m\"\"\"\u001b[39;00m\n\u001b[0;32m   3196\u001b[0m \u001b[38;5;28;01mif\u001b[39;00m extended:\n\u001b[1;32m-> 3197\u001b[0m     ret, err \u001b[38;5;241m=\u001b[39m \u001b[38;5;28;43mself\u001b[39;49m\u001b[38;5;241;43m.\u001b[39;49m\u001b[43mvisalib\u001b[49m\u001b[38;5;241;43m.\u001b[39;49m\u001b[43mparse_resource_extended\u001b[49m\u001b[43m(\u001b[49m\u001b[38;5;28;43mself\u001b[39;49m\u001b[38;5;241;43m.\u001b[39;49m\u001b[43msession\u001b[49m\u001b[43m,\u001b[49m\u001b[43m \u001b[49m\u001b[43mresource_name\u001b[49m\u001b[43m)\u001b[49m\n\u001b[0;32m   3198\u001b[0m \u001b[38;5;28;01melse\u001b[39;00m:\n\u001b[0;32m   3199\u001b[0m     ret, err \u001b[38;5;241m=\u001b[39m \u001b[38;5;28mself\u001b[39m\u001b[38;5;241m.\u001b[39mvisalib\u001b[38;5;241m.\u001b[39mparse_resource(\u001b[38;5;28mself\u001b[39m\u001b[38;5;241m.\u001b[39msession, resource_name)\n",
      "File \u001b[1;32m~\\miniconda3\\lib\\site-packages\\pyvisa\\ctwrapper\\functions.py:2077\u001b[0m, in \u001b[0;36mparse_resource_extended\u001b[1;34m(library, session, resource_name)\u001b[0m\n\u001b[0;32m   2073\u001b[0m alias_if_exists \u001b[38;5;241m=\u001b[39m create_string_buffer(constants\u001b[38;5;241m.\u001b[39mVI_FIND_BUFLEN)\n\u001b[0;32m   2075\u001b[0m \u001b[38;5;66;03m# [ViSession, ViRsrc, ViPUInt16, ViPUInt16, ViAChar, ViAChar, ViAChar]\u001b[39;00m\n\u001b[0;32m   2076\u001b[0m \u001b[38;5;66;03m# ViRsrc converts from (str, unicode, bytes) to bytes\u001b[39;00m\n\u001b[1;32m-> 2077\u001b[0m ret \u001b[38;5;241m=\u001b[39m \u001b[43mlibrary\u001b[49m\u001b[38;5;241;43m.\u001b[39;49m\u001b[43mviParseRsrcEx\u001b[49m\u001b[43m(\u001b[49m\n\u001b[0;32m   2078\u001b[0m \u001b[43m    \u001b[49m\u001b[43msession\u001b[49m\u001b[43m,\u001b[49m\n\u001b[0;32m   2079\u001b[0m \u001b[43m    \u001b[49m\u001b[43mresource_name\u001b[49m\u001b[43m,\u001b[49m\n\u001b[0;32m   2080\u001b[0m \u001b[43m    \u001b[49m\u001b[43mbyref\u001b[49m\u001b[43m(\u001b[49m\u001b[43minterface_type\u001b[49m\u001b[43m)\u001b[49m\u001b[43m,\u001b[49m\n\u001b[0;32m   2081\u001b[0m \u001b[43m    \u001b[49m\u001b[43mbyref\u001b[49m\u001b[43m(\u001b[49m\u001b[43minterface_board_number\u001b[49m\u001b[43m)\u001b[49m\u001b[43m,\u001b[49m\n\u001b[0;32m   2082\u001b[0m \u001b[43m    \u001b[49m\u001b[43mresource_class\u001b[49m\u001b[43m,\u001b[49m\n\u001b[0;32m   2083\u001b[0m \u001b[43m    \u001b[49m\u001b[43munaliased_expanded_resource_name\u001b[49m\u001b[43m,\u001b[49m\n\u001b[0;32m   2084\u001b[0m \u001b[43m    \u001b[49m\u001b[43malias_if_exists\u001b[49m\u001b[43m,\u001b[49m\n\u001b[0;32m   2085\u001b[0m \u001b[43m\u001b[49m\u001b[43m)\u001b[49m\n\u001b[0;32m   2087\u001b[0m res \u001b[38;5;241m=\u001b[39m [\n\u001b[0;32m   2088\u001b[0m     buffer_to_text(val)\n\u001b[0;32m   2089\u001b[0m     \u001b[38;5;28;01mfor\u001b[39;00m val \u001b[38;5;129;01min\u001b[39;00m (resource_class, unaliased_expanded_resource_name, alias_if_exists)\n\u001b[0;32m   2090\u001b[0m ]\n\u001b[0;32m   2092\u001b[0m \u001b[38;5;28;01mif\u001b[39;00m res[\u001b[38;5;241m-\u001b[39m\u001b[38;5;241m1\u001b[39m] \u001b[38;5;241m==\u001b[39m \u001b[38;5;124m\"\u001b[39m\u001b[38;5;124m\"\u001b[39m:\n",
      "File \u001b[1;32m~\\miniconda3\\lib\\site-packages\\pyvisa\\ctwrapper\\highlevel.py:222\u001b[0m, in \u001b[0;36mIVIVisaLibrary._return_handler\u001b[1;34m(self, ret_value, func, arguments)\u001b[0m\n\u001b[0;32m    219\u001b[0m         \u001b[38;5;66;03m# Set session back to a safe value\u001b[39;00m\n\u001b[0;32m    220\u001b[0m         session \u001b[38;5;241m=\u001b[39m \u001b[38;5;28;01mNone\u001b[39;00m\n\u001b[1;32m--> 222\u001b[0m \u001b[38;5;28;01mreturn\u001b[39;00m \u001b[38;5;28;43mself\u001b[39;49m\u001b[38;5;241;43m.\u001b[39;49m\u001b[43mhandle_return_value\u001b[49m\u001b[43m(\u001b[49m\u001b[43msession\u001b[49m\u001b[43m,\u001b[49m\u001b[43m \u001b[49m\u001b[43mret_value\u001b[49m\u001b[43m)\u001b[49m\n",
      "File \u001b[1;32m~\\miniconda3\\lib\\site-packages\\pyvisa\\highlevel.py:251\u001b[0m, in \u001b[0;36mVisaLibraryBase.handle_return_value\u001b[1;34m(self, session, status_code)\u001b[0m\n\u001b[0;32m    248\u001b[0m     \u001b[38;5;28mself\u001b[39m\u001b[38;5;241m.\u001b[39m_last_status_in_session[session] \u001b[38;5;241m=\u001b[39m rv\n\u001b[0;32m    250\u001b[0m \u001b[38;5;28;01mif\u001b[39;00m rv \u001b[38;5;241m<\u001b[39m \u001b[38;5;241m0\u001b[39m:\n\u001b[1;32m--> 251\u001b[0m     \u001b[38;5;28;01mraise\u001b[39;00m errors\u001b[38;5;241m.\u001b[39mVisaIOError(rv)\n\u001b[0;32m    253\u001b[0m \u001b[38;5;28;01mif\u001b[39;00m rv \u001b[38;5;129;01min\u001b[39;00m \u001b[38;5;28mself\u001b[39m\u001b[38;5;241m.\u001b[39missue_warning_on:\n\u001b[0;32m    254\u001b[0m     \u001b[38;5;28;01mif\u001b[39;00m session \u001b[38;5;129;01mand\u001b[39;00m rv \u001b[38;5;129;01mnot\u001b[39;00m \u001b[38;5;129;01min\u001b[39;00m \u001b[38;5;28mself\u001b[39m\u001b[38;5;241m.\u001b[39m_ignore_warning_in_session[session]:\n",
      "\u001b[1;31mVisaIOError\u001b[0m: VI_ERROR_RSRC_NFOUND (-1073807343): Insufficient location information or the requested device or resource is not present in the system."
     ]
    }
   ],
   "source": [
    "import pyvisa\n",
    "rm = pyvisa.ResourceManager()\n",
    "rm.list_resources()\n",
    "\n",
    "\"\"\"\n",
    "\n",
    "'ASRL1::INSTR',\n",
    " 'ASRL3::INSTR',\n",
    " 'ASRL4::INSTR',\n",
    " 'ASRL7::INSTR',\n",
    " 'ASRL15::INSTR'\n",
    "\n",
    "\"\"\"\n",
    "\n",
    "keithley = rm.open_resource('169.254.207.124') #('USB0::0x1313::0x804F::M00552358::INSTR') <--- LASER DIODE\n",
    "print(keithley.query('*IDN?'))\n",
    "print(keithley)"
   ]
  },
  {
   "cell_type": "code",
   "execution_count": null,
   "metadata": {},
   "outputs": [],
   "source": [
    "import pymeasure"
   ]
  },
  {
   "cell_type": "code",
   "execution_count": null,
   "metadata": {},
   "outputs": [],
   "source": [
    "# Import necessary packages\n",
    "from pymeasure.instruments.keithley import Keithley2450\n",
    "from pymeasure.adapters import SerialAdapter\n",
    "import numpy as np\n",
    "import pandas as pd\n",
    "from time import sleep\n",
    "\n",
    "# Set the input parameters\n",
    "data_points = 50\n",
    "averages = 50\n",
    "max_current = 0.01\n",
    "min_current = -max_current\n",
    "\n",
    "# Connect and configure the instrument\n",
    "#adapter = SerialAdapter(\"169.254.207.124\") #('USB0::0x1313::0x804F::M00552358::INSTR') #(\"169.254.70.204\") #('COM7')\n",
    "print(\"Adapter created\")\n",
    "sourcemeter = Keithley2450('169.254.207.124')  #Keithley2450(adapter) # \"GPIB::1\"\n",
    "print(\"Sourcemeter created\")\n",
    "print(sourcemeter)\n",
    "#print(adapter)\n",
    "#sourcemeter.reset()\n",
    "sourcemeter.use_front_terminals()\n",
    "print(\"Front terminals used\")\n",
    "sourcemeter.measure_voltage()\n",
    "print(\"Voltage measured\")\n",
    "print('REACHED THE RESET')\n",
    "sourcemeter.config_current_source()\n",
    "print(\"Current source configured\")\n",
    "sleep(0.1) # wait here to give the instrument time to react\n",
    "sourcemeter.set_buffer(averages)\n",
    "print(\"Sourcemeter buffer set\")\n",
    "print('REACHED THE RESET2')\n",
    "\n",
    "\n",
    "sourcemeter.shutdown()\n",
    "\n",
    "print(\"Sourcemeter shutdown\")"
   ]
  },
  {
   "cell_type": "code",
   "execution_count": null,
   "metadata": {},
   "outputs": [],
   "source": [
    "# Allocate arrays to store the measurement results\n",
    "currents = np.linspace(min_current, max_current, num=data_points)\n",
    "voltages = np.zeros_like(currents)\n",
    "voltage_stds = np.zeros_like(currents)\n",
    "print('REACHED THE FOR LOOP')\n",
    "\n",
    "# Loop through each current point, measure and record the voltage\n",
    "for i in range(1):\n",
    "    sourcemeter.current = currents[i]\n",
    "    sourcemeter.reset_buffer()\n",
    "    sleep(0.1)\n",
    "    sourcemeter.start_buffer()\n",
    "    sourcemeter.wait_for_buffer()\n",
    "\n",
    "    # Record the average and standard deviation\n",
    "    voltages[i] = sourcemeter.means\n",
    "    voltage_stds[i] = sourcemeter.standard_devs\n",
    "\n",
    "    \n",
    "print('EXITED THE FOOR LOOP')\n",
    "# Save the data columns in a CSV file\n",
    "data = pd.DataFrame({\n",
    "    'Current (A)': currents,\n",
    "    'Voltage (V)': voltages,\n",
    "    'Voltage Std (V)': voltage_stds,\n",
    "})\n",
    "data.to_csv(r'C:\\Users\\admin\\Q8b\\example.csv')\n",
    "print('mission complete')"
   ]
  },
  {
   "cell_type": "code",
   "execution_count": null,
   "metadata": {},
   "outputs": [],
   "source": [
    "print(data)"
   ]
  },
  {
   "cell_type": "code",
   "execution_count": null,
   "metadata": {},
   "outputs": [],
   "source": [
    "import os\n",
    "print(os.getcwd())"
   ]
  }
 ],
 "metadata": {
  "kernelspec": {
   "display_name": "Python 3 (ipykernel)",
   "language": "python",
   "name": "python3"
  },
  "language_info": {
   "codemirror_mode": {
    "name": "ipython",
    "version": 3
   },
   "file_extension": ".py",
   "mimetype": "text/x-python",
   "name": "python",
   "nbconvert_exporter": "python",
   "pygments_lexer": "ipython3",
   "version": "3.9.12"
  }
 },
 "nbformat": 4,
 "nbformat_minor": 2
}
