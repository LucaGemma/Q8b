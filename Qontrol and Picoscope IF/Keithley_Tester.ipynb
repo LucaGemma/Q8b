{
 "cells": [
  {
   "cell_type": "code",
   "execution_count": 13,
   "metadata": {},
   "outputs": [
    {
     "name": "stdout",
     "output_type": "stream",
     "text": [
      "Thorlabs,CLD1011LP,M00552358,2.3.0\n",
      "\n",
      "USBInstrument at USB0::0x1313::0x804F::M00552358::0::INSTR\n"
     ]
    }
   ],
   "source": [
    "import pyvisa\n",
    "rm = pyvisa.ResourceManager()\n",
    "rm.list_resources()\n",
    "keithley = rm.open_resource('USB0::0x1313::0x804F::M00552358::INSTR') \n",
    "print(keithley.query('*IDN?'))\n",
    "print(keithley)"
   ]
  },
  {
   "cell_type": "code",
   "execution_count": null,
   "metadata": {},
   "outputs": [],
   "source": [
    "# Import necessary packages\n",
    "from pymeasure.instruments.keithley import Keithley2400\n",
    "from pymeasure.adapters import SerialAdapter\n",
    "import numpy as np\n",
    "import pandas as pd\n",
    "from time import sleep\n",
    "\n",
    "# Set the input parameters\n",
    "data_points = 50\n",
    "averages = 50\n",
    "max_current = 0.01\n",
    "min_current = -max_current\n",
    "\n",
    "# Connect and configure the instrument\n",
    "adapter = SerialAdapter('COM1')\n",
    "sourcemeter = Keithley2400(adapter) # \"GPIB::1\"\n",
    "print(sourcemeter)\n",
    "print(adapter)\n",
    "sourcemeter.reset()\n",
    "sourcemeter.use_front_terminals()\n",
    "#sourcemeter.measure_voltage()\n",
    "print('REACHED THE RESET')\n",
    "sourcemeter.config_current_source()\n",
    "sleep(0.1) # wait here to give the instrument time to react\n",
    "sourcemeter.set_buffer(averages)\n",
    "print('REACHED THE RESET2')\n",
    "\n",
    "# Allocate arrays to store the measurement results\n",
    "currents = np.linspace(min_current, max_current, num=data_points)\n",
    "voltages = np.zeros_like(currents)\n",
    "voltage_stds = np.zeros_like(currents)\n",
    "print('REACHED THE FOR LOOP')\n",
    "\n",
    "# Loop through each current point, measure and record the voltage\n",
    "for i in range(1):\n",
    "    sourcemeter.current = currents[i]\n",
    "    sourcemeter.reset_buffer()\n",
    "    sleep(0.1)\n",
    "    sourcemeter.start_buffer()\n",
    "    sourcemeter.wait_for_buffer()\n",
    "\n",
    "    # Record the average and standard deviation\n",
    "    voltages[i] = sourcemeter.means\n",
    "    voltage_stds[i] = sourcemeter.standard_devs\n",
    "\n",
    "    \n",
    "print('EXITED THE FOOR LOOP')\n",
    "# Save the data columns in a CSV file\n",
    "data = pd.DataFrame({\n",
    "    'Current (A)': currents,\n",
    "    'Voltage (V)': voltages,\n",
    "    'Voltage Std (V)': voltage_stds,\n",
    "})\n",
    "data.to_csv(r'C:\\Users\\admin\\Q8b\\example.csv')\n",
    "print('mission complete')\n",
    "\n",
    "sourcemeter.shutdown()"
   ]
  },
  {
   "cell_type": "code",
   "execution_count": null,
   "metadata": {},
   "outputs": [],
   "source": [
    "print(data)"
   ]
  },
  {
   "cell_type": "code",
   "execution_count": null,
   "metadata": {},
   "outputs": [],
   "source": [
    "import os\n",
    "print(os.getcwd())"
   ]
  }
 ],
 "metadata": {
  "kernelspec": {
   "display_name": "Python 3",
   "language": "python",
   "name": "python3"
  },
  "language_info": {
   "codemirror_mode": {
    "name": "ipython",
    "version": 3
   },
   "file_extension": ".py",
   "mimetype": "text/x-python",
   "name": "python",
   "nbconvert_exporter": "python",
   "pygments_lexer": "ipython3",
   "version": "3.7.9"
  }
 },
 "nbformat": 4,
 "nbformat_minor": 2
}
