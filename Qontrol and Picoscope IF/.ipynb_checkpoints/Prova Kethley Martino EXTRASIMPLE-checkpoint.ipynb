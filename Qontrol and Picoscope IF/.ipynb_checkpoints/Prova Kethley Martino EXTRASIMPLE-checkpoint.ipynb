{
 "cells": [
  {
   "cell_type": "markdown",
   "id": "062d8c7f",
   "metadata": {},
   "source": [
    "# This is just a small code to check the Keithley connection."
   ]
  },
  {
   "cell_type": "code",
   "execution_count": 1,
   "id": "c85977ba",
   "metadata": {},
   "outputs": [],
   "source": [
    "import pyvisa\n",
    "import numpy as np\n",
    "import matplotlib.pyplot as plt\n",
    "import time\n",
    "rm = pyvisa.ResourceManager()\n",
    "rm.list_resources()\n",
    "\n",
    "\n",
    "event_type=pyvisa.constants.EventType.service_request\n",
    "event_mech=pyvisa.constants.EventMechanism.queue\n",
    "# FROM THE INSTRUMENT WEB-INTERFACE THE NAME IS\n",
    "# TCPIP::169.254.207.124::inst0::INSTR"
   ]
  },
  {
   "cell_type": "code",
   "execution_count": 2,
   "id": "b1181b00",
   "metadata": {},
   "outputs": [
    {
     "data": {
      "text/plain": [
       "'# Type of event we want to be notified about\\nevent_type = pyvisa.constants.EventType.service_request\\n# Mechanism by which we want to be notified\\nevent_mech = pyvisa.constants.EventMechanism.queue\\ninst.enable_event(event_type, event_mech)\\n'"
      ]
     },
     "execution_count": 2,
     "metadata": {},
     "output_type": "execute_result"
    }
   ],
   "source": [
    "inst = rm.open_resource('TCPIP::169.254.50.53::inst0::INSTR')\n",
    "'''# Type of event we want to be notified about\n",
    "event_type = pyvisa.constants.EventType.service_request\n",
    "# Mechanism by which we want to be notified\n",
    "event_mech = pyvisa.constants.EventMechanism.queue\n",
    "inst.enable_event(event_type, event_mech)\n",
    "'''"
   ]
  },
  {
   "cell_type": "code",
   "execution_count": 3,
   "id": "27ff8b55",
   "metadata": {},
   "outputs": [
    {
     "data": {
      "text/plain": [
       "'\\nwith rm.open_resource(\"TCPIP::169.254.207.124::inst0::INSTR\") as inst:\\n    # Type of event we want to be notified about\\n    event_type = constants.EventType.service_request\\n    # Mechanism by which we want to be notified\\n    event_mech = constants.EventMechanism.queue\\n    inst.enable_event(event_type, event_mech)\\n    # Instrument specific code to enable service request\\n    # (for example on operation complete OPC)\\n    inst.write(\"*SRE 1\")\\n    inst.write(\"INIT\")\\n    # Wait for the event to occur\\n    response = inst.wait_on_event(event_type, 1000)\\n    inst.assert_response.event.event_type == event_type\\n    inst.assert_response.timed_out = False\\n    inst.disable_event(event_type, event_mech)\\n'"
      ]
     },
     "execution_count": 3,
     "metadata": {},
     "output_type": "execute_result"
    }
   ],
   "source": [
    "'''\n",
    "with rm.open_resource(\"TCPIP::169.254.207.124::inst0::INSTR\") as inst:\n",
    "    # Type of event we want to be notified about\n",
    "    event_type = constants.EventType.service_request\n",
    "    # Mechanism by which we want to be notified\n",
    "    event_mech = constants.EventMechanism.queue\n",
    "    inst.enable_event(event_type, event_mech)\n",
    "    # Instrument specific code to enable service request\n",
    "    # (for example on operation complete OPC)\n",
    "    inst.write(\"*SRE 1\")\n",
    "    inst.write(\"INIT\")\n",
    "    # Wait for the event to occur\n",
    "    response = inst.wait_on_event(event_type, 1000)\n",
    "    inst.assert_response.event.event_type == event_type\n",
    "    inst.assert_response.timed_out = False\n",
    "    inst.disable_event(event_type, event_mech)\n",
    "'''"
   ]
  },
  {
   "cell_type": "code",
   "execution_count": 4,
   "id": "3bb80507",
   "metadata": {
    "scrolled": true
   },
   "outputs": [
    {
     "name": "stdout",
     "output_type": "stream",
     "text": [
      "Resource name  : TCPIP0::169.254.50.53::inst0::INSTR\n",
      "Resource info  : ResourceInfo(interface_type=<InterfaceType.tcpip: 6>, interface_board_number=0, resource_class='INSTR', resource_name='TCPIP0::169.254.50.53::inst0::INSTR', alias=None)\n",
      "Resource class : INSTR\n",
      "Resource manuf.: National Instruments\n"
     ]
    }
   ],
   "source": [
    "# Just to check that everything is ok..\n",
    "print('Resource name  :', inst.resource_name)\n",
    "print('Resource info  :',inst.resource_info)\n",
    "print('Resource class :',inst.resource_class)\n",
    "print('Resource manuf.:',inst.resource_manufacturer_name)"
   ]
  },
  {
   "cell_type": "code",
   "execution_count": 5,
   "id": "da822efa",
   "metadata": {},
   "outputs": [
    {
     "name": "stdout",
     "output_type": "stream",
     "text": [
      "KEITHLEY INSTRUMENTS,MODEL 2450,04451367,1.6.7c\n",
      "\n"
     ]
    }
   ],
   "source": [
    "inst.write('*RST')                   #Reset\n",
    "inst.write('TRAC:CLE')               # clear the dafault buffer \"defbuffer1\"\n",
    "print(inst.query('*IDN?'))"
   ]
  },
  {
   "cell_type": "code",
   "execution_count": null,
   "id": "99184606",
   "metadata": {},
   "outputs": [],
   "source": [
    "def keithley_voltage_sweep(inst, V_start, V_stop, points, current_compliance = '3e-02', ms_delay = 0.01): #3e-02 30mA of current compliance by default\n",
    "    # Make a voltage sweep and measure current both with autorange. Voltage goes from V_start to V_stop with points number of points and \n",
    "    # starting after ms_delay ms\n",
    "    inst.write('*RST')                   #Reset\n",
    "    inst.write('TRAC:CLE')               # clear the dafault buffer \"defbuffer1\"\n",
    "    inst.write('SENS:FUNC \"CURR\"')       # Set current measurements\n",
    "    inst.write('SENS:CURR:RANG:AUTO ON') # Set current range\n",
    "    inst.write('SENS:CURR:RSEN OFF')     # Set 2wires (4wires off)\n",
    "    inst.write('SOUR:FUNC VOLT')         # Set voltage source\n",
    "    inst.write('SOUR:VOLT:RANG:AUTO ON') # Set voltage range:auto\n",
    "    inst.write('SOUR:VOLT:ILIM '+ current_compliance)       # Set current compliace\n",
    "    inst.write('SOUR:SWE:VOLT:LIN '+ str(V_start) +', '+ str(V_stop) +', '+ str(points) +', '+ str(ms_delay)) #('SOUR:SWE:VOLT:LIN -2.5, 2.5, 51, 0.01')\n",
    "    inst.write('OUTPut ON')              # turns the output on\n",
    "    inst.write(':INIT')                  # Start!\n",
    "    #inst.write('*WAI')                   # wait until all commands are complete\n",
    "    time.sleep(35)\n",
    "    x=np.array(inst.query_ascii_values('TRAC:DATA? 1, '+ str(points) +', \"defbuffer1\", SOUR')) # retrieve the voltage readings\n",
    "    y=np.array(inst.query_ascii_values('TRAC:DATA? 1, '+ str(points) +', \"defbuffer1\", READ')) # retrieve the current readings\n",
    "    inst.write('TRAC:CLE') # clear the dafault buffer \"defbuffer1\"\n",
    "    return [x,y]\n",
    "output =  keithley_voltage_sweep(inst, -2.5, 2.5, 51, '1e-2') #-2.5, 2.5, 51, 0.01\n",
    "hf_IVcurve=plt.plot(output[0], output[1], '.-')\n",
    "plt.xlabel('Voltage [V]')\n",
    "plt.ylabel('Current [A]')\n",
    "plt.grid(visible='true')"
   ]
  },
  {
   "cell_type": "code",
   "execution_count": 6,
   "id": "47977f0f",
   "metadata": {},
   "outputs": [
    {
     "name": "stdout",
     "output_type": "stream",
     "text": [
      "-4.441302e-05\n"
     ]
    },
    {
     "data": {
      "text/plain": [
       "float"
      ]
     },
     "execution_count": 6,
     "metadata": {},
     "output_type": "execute_result"
    }
   ],
   "source": [
    "def keithley_single_measure(inst, sense = 'CURR', source = 'VOLT', sourcevalue = 1e-2, compliance = 1e-2): # by default it measures current. To measure voltage, insert 'VOLT'\n",
    "    inst.write('*RST') # Reset\n",
    "    inst.write('TRAC:CLE') # clear the dafault buffer \"defbuffer1\"\n",
    "    inst.write('SENS:'+ sense +':RANG:AUTO ON') # enable autorange\n",
    "    inst.write('SOUR:FUNC '+ str(source))         # Set source\n",
    "    inst.write('SOUR:' + str(source) + ' ' + str(sourcevalue))\n",
    "    inst.write('SOUR:VOLT:ILIM ' + str(compliance))       # Set current compliace\n",
    "    inst.write('OUTPut ON')              # turns the output on\n",
    "    #inst.write(':INIT')                  # Start!\n",
    "    #time.sleep(0.1)\n",
    "    measurement = inst.query_ascii_values('MEAS:'+ sense +'? ' )#'READ') # Retrieve one measurement of the specified type\n",
    "    inst.write('OUTPut OFF')              # turns the output on\n",
    "    inst.write('TRAC:CLE') # Clear default buffer defbuffer1\n",
    "    return measurement\n",
    "\n",
    "valore_output_keithley = keithley_single_measure(inst, sense = 'CURR', source = 'VOLT', sourcevalue = -3)[0]\n",
    "print(valore_output_keithley)\n",
    "type(valore_output_keithley)"
   ]
  },
  {
   "cell_type": "code",
   "execution_count": null,
   "id": "0257d201",
   "metadata": {},
   "outputs": [],
   "source": [
    "# Make a measurement 0-1V, measure IV\n",
    "inst.write('*RST')                   #Reset\n",
    "inst.write('TRAC:CLE') # clear the dafault buffer \"defbuffer1\"\n",
    "inst.write('SENS:FUNC \"CURR\"')       # Set current measurements\n",
    "inst.write('SENS:CURR:RANG:AUTO ON') # Set current range\n",
    "inst.write('SENS:CURR:RSEN OFF')     # Set 2wires (4wires off)\n",
    "inst.write('SOUR:FUNC VOLT')         # Set voltage source\n",
    "inst.write('SOUR:VOLT:RANG:AUTO ON') # Set voltage range:auto\n",
    "inst.write('SOUR:VOLT:ILIM 1')       # Set current compliace\n",
    "inst.write('SOUR:SWE:VOLT:LIN -2.5, 2.5, 51, 0.01')\n",
    "inst.write(':INIT')                  # Start!\n",
    "\n",
    "\n",
    "\"\"\"\n",
    "COMMANDS:\n",
    "# if commands are not grouped (on the same line and with a ; after each command), then the startnig : is optional\n",
    "# upper case letters are mandatory, lower case letters are optional, but if you choose to put also the lower case ones, all of them have to be inserted\n",
    ":OUTPut:STATe ON'      # turn the output on\n",
    ":OUTPut:STATe OFF'      # turn the output off\n",
    "DISPlay:SCReen SWIPE_USER # to write on screen \n",
    "DISPlay:USER1:TEXT \"Test in process\"\n",
    "DISPlay:USER2:TEXT \"Do not disturb\"\n",
    ":DISPlay:CLEar # clear the display\n",
    ":SYSTem:BEEPer <frequency, time> # generate a sound Where frequency is the frequency of the sound in Hz (20 to 20,000) and time is the length of the\n",
    "sound in seconds, an audible sound can be produced with :SYSTem:BEEPer 500, 1\n",
    "ROUTe:TERMinals FRONt # To change to the front-panel terminals for current measurements\n",
    "ROUTe:TERMinals REAR # To change to the rear-panel terminals for current measurements\n",
    ":SENSe:CURRent:RSENse OFF # change to 2-wire sensing for current \n",
    ":SENSe:VOLTage:RSENse OFF # change to 2-wire sensing for voltage\n",
    ":SENSe:RESistance:RSENse OFF # change to 2-wire sensing for resistance\n",
    ":SENSe:CURRent:RSENse ON # # change to 4-wire sensing for current\n",
    ":OUTPut:SMODe NORMal # To set the output-off state to normal\n",
    ":OUTPut:SMODe ZERO # To set the output-off state to zero\n",
    ":OUTPut:SMODe HIMPedance # To set the output-off state to high impedance\n",
    ":OUTPut:SMODe GUARd # To set the output-off state to guard\n",
    "SENS:FUNC \"CURR\"    # Set current measurements\n",
    "SOUR:FUNC VOLT     # Set voltage source\n",
    "SOUR:VOLT:RANG:AUTO ON # Set voltage range:auto\n",
    "SOUR:VOLT 5 # Set voltage to 5 V?\n",
    "SENSe:COUNT 5 # makes five readings\n",
    "SENSe:FUNCtion \"CURR\" # measures current\n",
    "SENSe:CURRent:RANGe:AUTO ON # enable autorange\n",
    "\n",
    "SENSe:FUNCtion \"VOLT\" # measures voltage\n",
    "SENSe:CURRent:RANGe:AUTO ON # enable autorange\n",
    "\n",
    "SOURce:FUNCtion CURR # set current source\n",
    "SOURce:CURRent 1e-01 # set current to 100 mA\n",
    "SOURce:CURRent:VLIM 10 # compliance 10 V?\n",
    "SENSe:COUNT 5\n",
    "\n",
    "# ------ makes a linear sweep\n",
    "Set up a linear sweep that sweeps from 0 to 10 V in 21 steps with a source delay of 200 ms.\n",
    "SOUR:SWE:VOLT:LIN 0, 10, 21, 200e-3 # the sweep command from 0 to 10 in 21 steps/points (stop-start)/steps +1\n",
    ":INITiate # start the sweep \n",
    "*WAI # wait until all commands are complete\n",
    "TRAC:DATA? 1, 21, \"defbuffer1\", SOUR, READ # query the source value and measurement readings\n",
    "# --------\n",
    "\n",
    "# ------ makes a single measurement\n",
    "FETCh? \"defbuffer1\", DATE, READ # Retrieve the date and measurement value for the most recent data captured in defbuffer1.\n",
    "                                # Example output:\n",
    "                                # 03/21/2013,-1.375422E-11\n",
    "                                \n",
    "# ------ makes a single measurement\n",
    "TRACe:MAKE \"voltMeasBuffer\", 10000\n",
    "MEAS:VOLT? \"voltMeasBuffer\", FORM, DATE, READ # Create a buffer named voltMeasBuffer. Make a voltage measurement and store it in the buffer\n",
    "                                              # voltMeasBuffer and return the formatted reading, the date, and the reading elements from the buffer.\n",
    "                                              # Example output:\n",
    "                                              # -00.0024 mV,05/16/2014,-2.384862E-06\n",
    "\n",
    "# ------- make a single measurement\n",
    "\n",
    ":TRAC:CLEAR # Clear data from the reading buffer.\n",
    ":COUN 10 # Set the count to 10.\n",
    ":MEAS? # Make ten measurements.\n",
    ":TRAC:DATA? 1,10 # Returns the last measurement of ten readings. \n",
    "# --------\n",
    "\n",
    "# ------\n",
    "OUTPut ON \n",
    "TRACe:TRIGger \"defbuffer1\"\n",
    "TRACe:DATA? 1, 5, \"defbuffer1\", SOUR, READ # return the last measurement of 5 readings from buffer \"defbuffer1\" with source and readings\n",
    "OUTPut OFF\n",
    "# ------\n",
    "\n",
    "TRACe:CLEar # clear the defaul buffer \"defbuffer1\"\n",
    "\n",
    "To make a measurement, you send the MEASure:<function>? command. For example, to make a\n",
    "current measurement, send the command:\n",
    ":MEASure:CURRent?\n",
    "To make a voltage measurement, send the command:\n",
    ":MEASure:VOLTage?\n",
    "To make a resistance measurement, send the command:\n",
    ":MEASure:RESistance?\n",
    "\n",
    "\n",
    "The example below use a 100 kΩ device under test. The code:\n",
    "• Makes five readings by sourcing 5e-6 A\n",
    "• Measures voltage with autorange enabled\n",
    "• Sets the measure units to ohms\n",
    "• Uses offset compensation\n",
    "• Retrieves the source and measure values\n",
    "Even though the measurement units are in ohms, the measurement range is 2 V.\n",
    "Using SCPI:\n",
    "Send the following code:\n",
    "*RST\n",
    "SENSe:FUNCtion \"VOLT\"\n",
    "SENSe:VOLTage:RANGe:AUTO ON\n",
    "SENSe:VOLTage:UNIT OHM\n",
    "SENSe:VOLTage:OCOM ON\n",
    "SOURce:FUNCtion CURR\n",
    "SOURce:CURRent 5e-6\n",
    "SOURce:CURRent:VLIM 10\n",
    "SENSe:COUNT 5\n",
    "OUTPut ON\n",
    "TRACe:TRIGger \"defbuffer1\"\n",
    "TRACe:DATA? 1, 5, \"defbuffer1\", SOUR, READ\n",
    "OUTPut OFF\n",
    "\n",
    "The example below measures resistance\n",
    "*RST\n",
    "SENSe:FUNCtion \"RES\"\n",
    "SENSe:RESistance:RANGe:AUTO ON\n",
    "SENSe:RESistance:OCOMpensated ON\n",
    "SENSe:COUNt 5\n",
    "OUTPut ON\n",
    "TRACe:TRIGger \"defbuffer1\"\n",
    "TRACe:DATA? 1, 5, \"defbuffer1\", SOUR, READ\n",
    "OUTPut OFF\n",
    "\n",
    "SOURce:VOLTage:PROTection PROT20 # overvoltage limit to 20 V\n",
    "SOURCe:CURRent:VLIMit <n> # voltage compliance in V when sourcing current\n",
    "SOURCe:VOLTage:ILIMit <n> # current compliance in A when sourcing voltage\n",
    "\n",
    "\"\"\"\n",
    "\n",
    "'''\n",
    "# Wait for the event to occur\n",
    "response = inst.wait_on_event(event_type, 1000)\n",
    "inst.assert_response.event.event_type == event_type\n",
    "inst.assert_response.timed_out = False\n",
    "inst.disable_event(event_type, event_mech)\n",
    "'''\n",
    "\n",
    "'''\n",
    "inst.assert_trigger()\n",
    "time.sleep(0.1)\n",
    "inst.wait_on_event(event_type, 1000)\n",
    "#inst.wait_on_event(event_type)#non sembra funzionare...\n",
    "#inst.write('*WAI')#non sembra funzionare...\n",
    "'''\n",
    "time.sleep(30)#ci mettiamo una brutta pezza per ora.\n",
    "print('Fatto')"
   ]
  },
  {
   "cell_type": "markdown",
   "id": "617ebdf0",
   "metadata": {},
   "source": [
    "Before executing the cell below, wait for the previous code to be executed.\n",
    "For now, best way to check the code execution is to connect to the web-interface of the instrument and look at it. Last time it was in 169.254.207.124. We can eventually set a fixed IP for it I think."
   ]
  },
  {
   "cell_type": "code",
   "execution_count": null,
   "id": "ffde3080",
   "metadata": {},
   "outputs": [],
   "source": [
    "# Leggo 10 dati, per vedere se è andato...\n",
    "#print(inst.query('TRAC:DATA? 1, 10, \"defbuffer1\", SOUR, READ'))"
   ]
  },
  {
   "cell_type": "code",
   "execution_count": null,
   "id": "361ecb26",
   "metadata": {},
   "outputs": [],
   "source": [
    "x=np.array(inst.query_ascii_values('TRAC:DATA? 1, 51, \"defbuffer1\", SOUR'))\n",
    "y=np.array(inst.query_ascii_values('TRAC:DATA? 1, 51, \"defbuffer1\", READ'))"
   ]
  },
  {
   "cell_type": "code",
   "execution_count": null,
   "id": "9a0c190d",
   "metadata": {},
   "outputs": [],
   "source": [
    "hf_IVcurve=plt.plot(x, y, '.-')\n",
    "plt.xlabel('Voltage [V]')\n",
    "plt.ylabel('Current [A]')\n",
    "plt.grid(visible='true')\n"
   ]
  },
  {
   "cell_type": "code",
   "execution_count": null,
   "id": "9532149d",
   "metadata": {},
   "outputs": [],
   "source": [
    "pyvisa.__version__"
   ]
  },
  {
   "cell_type": "code",
   "execution_count": null,
   "id": "ff1f6cf4",
   "metadata": {},
   "outputs": [],
   "source": [
    "\n"
   ]
  },
  {
   "cell_type": "code",
   "execution_count": null,
   "id": "e5c06579",
   "metadata": {},
   "outputs": [],
   "source": []
  }
 ],
 "metadata": {
  "kernelspec": {
   "display_name": "Python 3 (ipykernel)",
   "language": "python",
   "name": "python3"
  },
  "language_info": {
   "codemirror_mode": {
    "name": "ipython",
    "version": 3
   },
   "file_extension": ".py",
   "mimetype": "text/x-python",
   "name": "python",
   "nbconvert_exporter": "python",
   "pygments_lexer": "ipython3",
   "version": "3.9.12"
  }
 },
 "nbformat": 4,
 "nbformat_minor": 5
}
