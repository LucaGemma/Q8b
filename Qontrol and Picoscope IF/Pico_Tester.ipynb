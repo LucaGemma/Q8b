{
 "cells": [
  {
   "cell_type": "code",
   "execution_count": 1,
   "metadata": {},
   "outputs": [
    {
     "name": "stdout",
     "output_type": "stream",
     "text": [
      "3.9.5 (default, May 18 2021, 14:42:02) [MSC v.1916 64 bit (AMD64)]\n"
     ]
    }
   ],
   "source": [
    "import sys\n",
    "print(sys.version)\n",
    "username = 'admin' # 'lucag' #'admin' # 'admin' for BO1 lab\n",
    "sys.path.append('c:/users/' + username + '/picosdk-python-wrappers')\n",
    "sys.path.append('c:/Users/lucag/anaconda3/Lib/site-packages/picosdk-1.0/picosdk-1.0/picosdk') # not for BO1 lab\n",
    "path_to_MyCustomPackage = '../' # relative path to the MyCustomPackage folder \n",
    "sys.path.append(path_to_MyCustomPackage)\n",
    "from MyCustomPackage import mycustommodule\n",
    "import picosdk\n",
    "import os\n",
    "os.getcwd()\n",
    "import logging\n",
    "import ctypes\n",
    "import numpy as np #\n",
    "from picosdk.ps4000 import ps4000 as ps #\n",
    "import matplotlib.pyplot as plt\n",
    "from picosdk.functions import adc2mV, assert_pico_ok\n",
    "from statistics import mean\n",
    "import time\n",
    "import math\n",
    "\n",
    "%matplotlib inline\n",
    "\n",
    "def round_half_up(n, decimals=0):\n",
    "    multiplier = 10 ** decimals\n",
    "    return math.floor(n*multiplier + 0.5) / multiplier"
   ]
  },
  {
   "cell_type": "code",
   "execution_count": 2,
   "metadata": {},
   "outputs": [
    {
     "name": "stderr",
     "output_type": "stream",
     "text": [
      "INFO:root:Capturing at sample interval  2.500E+05 ns, with total sampling time of  1.250E+09 ns\n",
      "INFO:root:Done grabbing values.\n"
     ]
    },
    {
     "name": "stdout",
     "output_type": "stream",
     "text": [
      "-0.914\n"
     ]
    },
    {
     "name": "stderr",
     "output_type": "stream",
     "text": [
      "INFO:root:Done grabbing values.\n"
     ]
    },
    {
     "name": "stdout",
     "output_type": "stream",
     "text": [
      "-0.952\n"
     ]
    },
    {
     "name": "stderr",
     "output_type": "stream",
     "text": [
      "INFO:root:Done grabbing values.\n"
     ]
    },
    {
     "name": "stdout",
     "output_type": "stream",
     "text": [
      "-0.966\n"
     ]
    },
    {
     "name": "stderr",
     "output_type": "stream",
     "text": [
      "INFO:root:Done grabbing values.\n"
     ]
    },
    {
     "name": "stdout",
     "output_type": "stream",
     "text": [
      "-0.985\n"
     ]
    }
   ],
   "source": [
    "# Starting Pico with range of 2V, sample interval of 250 microseconds and 5000 total samples\n",
    "\n",
    "channel_range = ps.PS4000_RANGE['PS4000_2V']\n",
    "sampleInterval = ctypes.c_int32(250) # in sample units specified by sampleUnits\n",
    "sampleUnits = ps.PS4000_TIME_UNITS['PS4000_US']\n",
    "sizeOfOneBuffer = 500 # size of a single buffer\n",
    "numBuffersToCapture = 10 # totalSamples = sizeOfOneBuffer * numBuffersToCapture\n",
    "mycustommodule.pico_start(channel_range, sampleInterval = sampleInterval, sampleUnits = sampleUnits, sizeOfOneBuffer = sizeOfOneBuffer, numBuffersToCapture = numBuffersToCapture)\n",
    "\n",
    "# We need a big buffer, not registered with the driver, to keep our complete capture in.\n",
    "for i in range(4):\n",
    "\n",
    "    print(mycustommodule.pico_acquire_measurement(channel_range, sampleInterval = sampleInterval, sampleUnits = sampleUnits, sizeOfOneBuffer = sizeOfOneBuffer, numBuffersToCapture = numBuffersToCapture));\n",
    "    time.sleep(0.1)\n",
    "\n",
    "mycustommodule.pico_stop()"
   ]
  },
  {
   "cell_type": "code",
   "execution_count": null,
   "metadata": {},
   "outputs": [],
   "source": []
  }
 ],
 "metadata": {
  "kernelspec": {
   "display_name": "Python 3 (ipykernel)",
   "language": "python",
   "name": "python3"
  },
  "language_info": {
   "codemirror_mode": {
    "name": "ipython",
    "version": 3
   },
   "file_extension": ".py",
   "mimetype": "text/x-python",
   "name": "python",
   "nbconvert_exporter": "python",
   "pygments_lexer": "ipython3",
   "version": "3.9.5"
  }
 },
 "nbformat": 4,
 "nbformat_minor": 2
}
