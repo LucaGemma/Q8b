{
 "cells": [
  {
   "cell_type": "markdown",
   "id": "062d8c7f",
   "metadata": {},
   "source": [
    "# This is just a small code to check the Keithley connection."
   ]
  },
  {
   "cell_type": "code",
   "execution_count": 1,
   "id": "c85977ba",
   "metadata": {},
   "outputs": [],
   "source": [
    "import pyvisa\n",
    "import numpy as np\n",
    "import matplotlib.pyplot as plt\n",
    "import time\n",
    "rm = pyvisa.ResourceManager()\n",
    "rm.list_resources()\n",
    "\n",
    "\n",
    "event_type=pyvisa.constants.EventType.service_request\n",
    "event_mech=pyvisa.constants.EventMechanism.queue\n",
    "# FROM THE INSTRUMENT WEB-INTERFACE THE NAME IS\n",
    "# TCPIP::169.254.207.124::inst0::INSTR"
   ]
  },
  {
   "cell_type": "code",
   "execution_count": 2,
   "id": "b1181b00",
   "metadata": {},
   "outputs": [
    {
     "data": {
      "text/plain": [
       "'# Type of event we want to be notified about\\nevent_type = pyvisa.constants.EventType.service_request\\n# Mechanism by which we want to be notified\\nevent_mech = pyvisa.constants.EventMechanism.queue\\ninst.enable_event(event_type, event_mech)\\n'"
      ]
     },
     "execution_count": 2,
     "metadata": {},
     "output_type": "execute_result"
    }
   ],
   "source": [
    "inst = rm.open_resource('TCPIP::169.254.207.124::inst0::INSTR')\n",
    "'''# Type of event we want to be notified about\n",
    "event_type = pyvisa.constants.EventType.service_request\n",
    "# Mechanism by which we want to be notified\n",
    "event_mech = pyvisa.constants.EventMechanism.queue\n",
    "inst.enable_event(event_type, event_mech)\n",
    "'''"
   ]
  },
  {
   "cell_type": "code",
   "execution_count": 3,
   "id": "27ff8b55",
   "metadata": {},
   "outputs": [
    {
     "data": {
      "text/plain": [
       "'\\nwith rm.open_resource(\"TCPIP::169.254.207.124::inst0::INSTR\") as inst:\\n    # Type of event we want to be notified about\\n    event_type = constants.EventType.service_request\\n    # Mechanism by which we want to be notified\\n    event_mech = constants.EventMechanism.queue\\n    inst.enable_event(event_type, event_mech)\\n    # Instrument specific code to enable service request\\n    # (for example on operation complete OPC)\\n    inst.write(\"*SRE 1\")\\n    inst.write(\"INIT\")\\n    # Wait for the event to occur\\n    response = inst.wait_on_event(event_type, 1000)\\n    inst.assert_response.event.event_type == event_type\\n    inst.assert_response.timed_out = False\\n    inst.disable_event(event_type, event_mech)\\n'"
      ]
     },
     "execution_count": 3,
     "metadata": {},
     "output_type": "execute_result"
    }
   ],
   "source": [
    "'''\n",
    "with rm.open_resource(\"TCPIP::169.254.207.124::inst0::INSTR\") as inst:\n",
    "    # Type of event we want to be notified about\n",
    "    event_type = constants.EventType.service_request\n",
    "    # Mechanism by which we want to be notified\n",
    "    event_mech = constants.EventMechanism.queue\n",
    "    inst.enable_event(event_type, event_mech)\n",
    "    # Instrument specific code to enable service request\n",
    "    # (for example on operation complete OPC)\n",
    "    inst.write(\"*SRE 1\")\n",
    "    inst.write(\"INIT\")\n",
    "    # Wait for the event to occur\n",
    "    response = inst.wait_on_event(event_type, 1000)\n",
    "    inst.assert_response.event.event_type == event_type\n",
    "    inst.assert_response.timed_out = False\n",
    "    inst.disable_event(event_type, event_mech)\n",
    "'''"
   ]
  },
  {
   "cell_type": "code",
   "execution_count": 4,
   "id": "3bb80507",
   "metadata": {
    "scrolled": true
   },
   "outputs": [
    {
     "name": "stdout",
     "output_type": "stream",
     "text": [
      "Resource name  : TCPIP0::169.254.207.124::inst0::INSTR\n",
      "Resource info  : ResourceInfo(interface_type=<InterfaceType.tcpip: 6>, interface_board_number=0, resource_class='INSTR', resource_name='TCPIP0::169.254.207.124::inst0::INSTR', alias=None)\n",
      "Resource class : INSTR\n",
      "Resource manuf.: National Instruments\n"
     ]
    }
   ],
   "source": [
    "# Just to check that everything is ok..\n",
    "print('Resource name  :', inst.resource_name)\n",
    "print('Resource info  :',inst.resource_info)\n",
    "print('Resource class :',inst.resource_class)\n",
    "print('Resource manuf.:',inst.resource_manufacturer_name)"
   ]
  },
  {
   "cell_type": "code",
   "execution_count": 5,
   "id": "da822efa",
   "metadata": {},
   "outputs": [
    {
     "name": "stdout",
     "output_type": "stream",
     "text": [
      "KEITHLEY INSTRUMENTS,MODEL 2450,04451367,1.6.7c\n",
      "\n"
     ]
    }
   ],
   "source": [
    "print(inst.query('*IDN?'))"
   ]
  },
  {
   "cell_type": "code",
   "execution_count": 6,
   "id": "0257d201",
   "metadata": {},
   "outputs": [
    {
     "name": "stdout",
     "output_type": "stream",
     "text": [
      "Fatto\n"
     ]
    }
   ],
   "source": [
    "# Make a measurement 0-1V, measure IV\n",
    "inst.write('*RST')                   #Reset\n",
    "inst.write('SENS:FUNC \"CURR\"')       # Set current\n",
    "inst.write('SENS:CURR:RANG:AUTO ON') # Set current range\n",
    "inst.write('SENS:CURR:RSEN OFF')     # Set 2wires (4wires off)\n",
    "inst.write('SOUR:FUNC VOLT')         # Set voltage\n",
    "inst.write('SOUR:VOLT:RANG:AUTO ON') # Set voltage range:auto\n",
    "inst.write('SOUR:VOLT:ILIM 1')       # Set current compliace\n",
    "inst.write('SOUR:SWE:VOLT:LIN -2.5, 2.5, 51, 0.01')\n",
    "inst.write(':INIT')                  # Start!\n",
    "'''\n",
    "# Wait for the event to occur\n",
    "response = inst.wait_on_event(event_type, 1000)\n",
    "inst.assert_response.event.event_type == event_type\n",
    "inst.assert_response.timed_out = False\n",
    "inst.disable_event(event_type, event_mech)\n",
    "'''\n",
    "\n",
    "'''\n",
    "inst.assert_trigger()\n",
    "time.sleep(0.1)\n",
    "inst.wait_on_event(event_type, 1000)\n",
    "#inst.wait_on_event(event_type)#non sembra funzionare...\n",
    "#inst.write('*WAI')#non sembra funzionare...\n",
    "'''\n",
    "time.sleep(30)#ci mettiamo una brutta pezza per ora.\n",
    "print('Fatto')"
   ]
  },
  {
   "cell_type": "markdown",
   "id": "617ebdf0",
   "metadata": {},
   "source": [
    "Before executing the cell below, wait for the previous code to be executed.\n",
    "For now, best way to check the code execution is to connect to the web-interface of the instrument and look at it. Last time it was in 169.254.207.124. We can eventually set a fixed IP for it I think."
   ]
  },
  {
   "cell_type": "code",
   "execution_count": 7,
   "id": "ffde3080",
   "metadata": {},
   "outputs": [],
   "source": [
    "# Leggo 10 dati, per vedere se è andato...\n",
    "#print(inst.query('TRAC:DATA? 1, 10, \"defbuffer1\", SOUR, READ'))"
   ]
  },
  {
   "cell_type": "code",
   "execution_count": 8,
   "id": "361ecb26",
   "metadata": {},
   "outputs": [],
   "source": [
    "x=np.array(inst.query_ascii_values('TRAC:DATA? 1, 51, \"defbuffer1\", SOUR'))\n",
    "y=np.array(inst.query_ascii_values('TRAC:DATA? 1, 51, \"defbuffer1\", READ'))"
   ]
  },
  {
   "cell_type": "code",
   "execution_count": 9,
   "id": "9a0c190d",
   "metadata": {},
   "outputs": [
    {
     "data": {
      "image/png": "[encoded data removed]",
      "text/plain": [
       "<Figure size 432x288 with 1 Axes>"
      ]
     },
     "metadata": {
      "needs_background": "light"
     },
     "output_type": "display_data"
    }
   ],
   "source": [
    "hf_IVcurve=plt.plot(x, y, '.-')\n",
    "plt.xlabel('Voltage [V]')\n",
    "plt.ylabel('Current [A]')\n",
    "plt.grid(visible='true')\n"
   ]
  },
  {
   "cell_type": "code",
   "execution_count": 10,
   "id": "9532149d",
   "metadata": {},
   "outputs": [
    {
     "data": {
      "text/plain": [
       "'1.11.3'"
      ]
     },
     "execution_count": 10,
     "metadata": {},
     "output_type": "execute_result"
    }
   ],
   "source": [
    "pyvisa.__version__"
   ]
  },
  {
   "cell_type": "code",
   "execution_count": null,
   "id": "ff1f6cf4",
   "metadata": {},
   "outputs": [],
   "source": []
  }
 ],
 "metadata": {
  "kernelspec": {
   "display_name": "Python 3 (ipykernel)",
   "language": "python",
   "name": "python3"
  },
  "language_info": {
   "codemirror_mode": {
    "name": "ipython",
    "version": 3
   },
   "file_extension": ".py",
   "mimetype": "text/x-python",
   "name": "python",
   "nbconvert_exporter": "python",
   "pygments_lexer": "ipython3",
   "version": "3.9.12"
  }
 },
 "nbformat": 4,
 "nbformat_minor": 5
}
