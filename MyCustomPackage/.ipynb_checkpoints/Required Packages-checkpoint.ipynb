{
 "cells": [
  {
   "cell_type": "markdown",
   "id": "1d63d26d",
   "metadata": {},
   "source": [
    "# Required Packages\n",
    "## Run this to fecth and install all required packages"
   ]
  },
  {
   "cell_type": "code",
   "execution_count": null,
   "id": "d9180632",
   "metadata": {},
   "outputs": [],
   "source": [
    "import sys\n",
    "print(sys.version)\n",
    "user = 'admin' # for BO1 -> 'admin'\n",
    "sys.path.append(r'C:\\Users\\PC\\picosdk-python-wrappers')\n",
    "#import pymeasure\n",
    "# Note: to install picosdk, follow this guide --> https://github.com/picotech/picosdk-python-wrappers\n",
    "# Note2: try with the .bat instead of executing this notebook, as it is faster"
   ]
  },
  {
   "cell_type": "code",
   "execution_count": null,
   "id": "35808c9c",
   "metadata": {},
   "outputs": [],
   "source": [
    "!conda update conda --yes"
   ]
  },
  {
   "cell_type": "code",
   "execution_count": null,
   "id": "3b517880",
   "metadata": {},
   "outputs": [],
   "source": [
    "!conda list # LIST ALL INSTALLED PACKAGES WITH CONDA"
   ]
  },
  {
   "cell_type": "code",
   "execution_count": null,
   "id": "37371c56",
   "metadata": {},
   "outputs": [],
   "source": [
    "!conda config --append channels conda-forge # adding conda-forge to the available channels for better availability of packages"
   ]
  },
  {
   "cell_type": "code",
   "execution_count": null,
   "id": "c178e9b8",
   "metadata": {},
   "outputs": [],
   "source": [
    "#!conda install --yes python=3.8.1"
   ]
  },
  {
   "cell_type": "code",
   "execution_count": null,
   "id": "c317618a",
   "metadata": {},
   "outputs": [],
   "source": [
    "#!conda install --yes pymeasure #try this if it does not work --> !pip install -U pymeasure"
   ]
  },
  {
   "cell_type": "code",
   "execution_count": null,
   "id": "54d2f599",
   "metadata": {},
   "outputs": [],
   "source": [
    "#!conda install --yes pyvisa #try this if it does not work --> !pip install -U pyvisa"
   ]
  },
  {
   "cell_type": "code",
   "execution_count": null,
   "id": "480c5049",
   "metadata": {},
   "outputs": [],
   "source": [
    "#!conda install --yes scipy"
   ]
  },
  {
   "cell_type": "code",
   "execution_count": null,
   "id": "ebcbb35f",
   "metadata": {},
   "outputs": [],
   "source": [
    "#!pip install qontrol"
   ]
  },
  {
   "cell_type": "code",
   "execution_count": null,
   "id": "9a4939d2",
   "metadata": {},
   "outputs": [],
   "source": [
    "#!conda install --yes ipympl"
   ]
  },
  {
   "cell_type": "code",
   "execution_count": null,
   "id": "2eaeabe6",
   "metadata": {},
   "outputs": [],
   "source": [
    "#!conda install --yes -c intel scikit-learn"
   ]
  },
  {
   "cell_type": "code",
   "execution_count": null,
   "id": "38e7cbd5",
   "metadata": {},
   "outputs": [],
   "source": [
    "#!conda install --yes -c conda-forge ipywidgets"
   ]
  },
  {
   "cell_type": "code",
   "execution_count": null,
   "id": "472f950e",
   "metadata": {},
   "outputs": [],
   "source": [
    "#!conda install --yes ipympl"
   ]
  },
  {
   "cell_type": "code",
   "execution_count": null,
   "id": "6d97cc40",
   "metadata": {},
   "outputs": [],
   "source": [
    "#!conda install --yes wxPython # try this if it does not work --> !pip install -U wxPython"
   ]
  },
  {
   "cell_type": "code",
   "execution_count": null,
   "id": "fe8214a2",
   "metadata": {},
   "outputs": [],
   "source": [
    "#!pip install picosdk ------------------------------> #TODO: PIP3!"
   ]
  },
  {
   "cell_type": "code",
   "execution_count": null,
   "id": "381a60a9",
   "metadata": {},
   "outputs": [],
   "source": [
    "#!pip install logging "
   ]
  },
  {
   "cell_type": "code",
   "execution_count": null,
   "id": "b4fdc3c5",
   "metadata": {},
   "outputs": [],
   "source": [
    "#!conda list\n",
    "#import wx\n",
    "#<X>.__version__ # TO CHECK THE <X> MODULE VERSION"
   ]
  }
 ],
 "metadata": {
  "kernelspec": {
   "display_name": "Python 3 (ipykernel)",
   "language": "python",
   "name": "python3"
  },
  "language_info": {
   "codemirror_mode": {
    "name": "ipython",
    "version": 3
   },
   "file_extension": ".py",
   "mimetype": "text/x-python",
   "name": "python",
   "nbconvert_exporter": "python",
   "pygments_lexer": "ipython3",
   "version": "3.9.5"
  }
 },
 "nbformat": 4,
 "nbformat_minor": 5
}
