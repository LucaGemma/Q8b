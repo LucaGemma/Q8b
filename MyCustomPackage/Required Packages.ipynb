{
 "cells": [
  {
   "cell_type": "markdown",
   "id": "1d63d26d",
   "metadata": {},
   "source": [
    "# Required Packages\n",
    "## Run this to fecth and install all required packages"
   ]
  },
  {
   "cell_type": "code",
   "execution_count": 1,
   "id": "d9180632",
   "metadata": {},
   "outputs": [
    {
     "name": "stdout",
     "output_type": "stream",
     "text": [
      "3.9.5 (default, May 18 2021, 14:42:02) [MSC v.1916 64 bit (AMD64)]\n"
     ]
    }
   ],
   "source": [
    "import sys\n",
    "print(sys.version)\n",
    "user = 'admin' # for BO1 -> 'admin'\n",
    "sys.path.append(r'C:\\Users\\PC\\picosdk-python-wrappers')\n",
    "#import pymeasure\n",
    "# Note: to install picosdk, follow this guide --> https://github.com/picotech/picosdk-python-wrappers"
   ]
  },
  {
   "cell_type": "code",
   "execution_count": null,
   "id": "ab793929",
   "metadata": {},
   "outputs": [],
   "source": [
    "!conda update conda"
   ]
  },
  {
   "cell_type": "code",
   "execution_count": 2,
   "id": "3b517880",
   "metadata": {},
   "outputs": [
    {
     "name": "stderr",
     "output_type": "stream",
     "text": [
      "usage: conda-script.py [-h] [-V] command ...\n",
      "conda-script.py: error: unrecognized arguments: LIST ALL INSTALLED PACKAGES WITH CONDA\n"
     ]
    }
   ],
   "source": [
    "!conda list # LIST ALL INSTALLED PACKAGES WITH CONDA"
   ]
  },
  {
   "cell_type": "code",
   "execution_count": 3,
   "id": "37371c56",
   "metadata": {},
   "outputs": [
    {
     "name": "stderr",
     "output_type": "stream",
     "text": [
      "usage: conda-script.py [-h] [-V] command ...\n",
      "conda-script.py: error: unrecognized arguments: # adding conda-forge to the available channels for better availability of packages\n"
     ]
    }
   ],
   "source": [
    "!conda config --append channels conda-forge # adding conda-forge to the available channels for better availability of packages"
   ]
  },
  {
   "cell_type": "code",
   "execution_count": null,
   "id": "897ca398",
   "metadata": {},
   "outputs": [],
   "source": [
    "#!conda install --yes --prefix {sys.prefix} python=3.8.1"
   ]
  },
  {
   "cell_type": "code",
   "execution_count": null,
   "id": "5b5dabda",
   "metadata": {},
   "outputs": [],
   "source": [
    "#!conda install --yes --prefix {sys.prefix} pymeasure #try this if it does not work --> !pip install -U pymeasure"
   ]
  },
  {
   "cell_type": "code",
   "execution_count": null,
   "id": "28bd9b32",
   "metadata": {},
   "outputs": [],
   "source": [
    "#!conda install --yes --prefix {sys.prefix} pyvisa #try this if it does not work --> !pip install -U pyvisa"
   ]
  },
  {
   "cell_type": "code",
   "execution_count": null,
   "id": "c729a4f3",
   "metadata": {},
   "outputs": [],
   "source": [
    "#!conda install --yes scipy"
   ]
  },
  {
   "cell_type": "code",
   "execution_count": null,
   "id": "567435f5",
   "metadata": {},
   "outputs": [],
   "source": [
    "#!pip install qontrol"
   ]
  },
  {
   "cell_type": "code",
   "execution_count": null,
   "id": "d3d0e900",
   "metadata": {},
   "outputs": [],
   "source": [
    "#!conda install --yes --prefix {sys.prefix} ipympl"
   ]
  },
  {
   "cell_type": "code",
   "execution_count": null,
   "id": "467fe31e",
   "metadata": {},
   "outputs": [],
   "source": [
    "#!conda install --yes --prefix {sys.prefix} -c intel scikit-learn"
   ]
  },
  {
   "cell_type": "code",
   "execution_count": null,
   "id": "83d13360",
   "metadata": {},
   "outputs": [],
   "source": [
    "#!conda install --yes --prefix {sys.prefix} -c conda-forge ipywidgets"
   ]
  },
  {
   "cell_type": "code",
   "execution_count": null,
   "id": "7807ed91",
   "metadata": {},
   "outputs": [],
   "source": [
    "#!conda install --yes ipympl"
   ]
  },
  {
   "cell_type": "code",
   "execution_count": null,
   "id": "82fb2490",
   "metadata": {},
   "outputs": [],
   "source": [
    "#!conda install --yes wxPython # try this if it does not work --> !pip install -U wxPython"
   ]
  },
  {
   "cell_type": "code",
   "execution_count": null,
   "id": "186eec0d",
   "metadata": {},
   "outputs": [],
   "source": [
    "#!pip install picosdk ------------------------------> #TODO: PIP3!"
   ]
  },
  {
   "cell_type": "code",
   "execution_count": null,
   "id": "72cd4238",
   "metadata": {},
   "outputs": [],
   "source": [
    "#!pip install logging "
   ]
  },
  {
   "cell_type": "code",
   "execution_count": null,
   "id": "73280a66",
   "metadata": {},
   "outputs": [],
   "source": [
    "#!conda list\n",
    "#import wx\n",
    "#<X>.__version__ # TO CHECK THE <X> MODULE VERSION"
   ]
  }
 ],
 "metadata": {
  "kernelspec": {
   "display_name": "Python 3 (ipykernel)",
   "language": "python",
   "name": "python3"
  },
  "language_info": {
   "codemirror_mode": {
    "name": "ipython",
    "version": 3
   },
   "file_extension": ".py",
   "mimetype": "text/x-python",
   "name": "python",
   "nbconvert_exporter": "python",
   "pygments_lexer": "ipython3",
   "version": "3.9.5"
  }
 },
 "nbformat": 4,
 "nbformat_minor": 5
}
