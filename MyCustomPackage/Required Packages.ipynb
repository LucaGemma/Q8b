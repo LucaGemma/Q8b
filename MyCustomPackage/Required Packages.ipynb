{
 "cells": [
  {
   "cell_type": "markdown",
   "id": "1d63d26d",
   "metadata": {},
   "source": [
    "# Required Packages\n",
    "## Run this to fecth and install all required packages"
   ]
  },
  {
   "cell_type": "code",
   "execution_count": 1,
   "id": "d9180632",
   "metadata": {},
   "outputs": [
    {
     "name": "stdout",
     "output_type": "stream",
     "text": [
      "3.8.8 (default, Apr 13 2021, 15:08:03) [MSC v.1916 64 bit (AMD64)]\n"
     ]
    }
   ],
   "source": [
    "import sys\n",
    "print(sys.version)\n",
    "user = 'admin' # for BO1 -> 'admin'\n",
    "sys.path.append(r'C:\\Users\\PC\\picosdk-python-wrappers')\n",
    "#import pymeasure\n",
    "# Note: to install picosdk, follow this guide --> https://github.com/picotech/picosdk-python-wrappers\n",
    "# Note2: try with the .bat instead of executing this notebook, as it is faster"
   ]
  },
  {
   "cell_type": "code",
   "execution_count": 2,
   "id": "35808c9c",
   "metadata": {},
   "outputs": [
    {
     "name": "stdout",
     "output_type": "stream",
     "text": [
      "Collecting package metadata (current_repodata.json): ...working... done\n",
      "Solving environment: ...working... done\n",
      "\n",
      "## Package Plan ##\n",
      "\n",
      "  environment location: C:\\Users\\lucag\\anaconda3\n",
      "\n",
      "  added / updated specs:\n",
      "    - conda\n",
      "\n",
      "\n",
      "The following packages will be downloaded:\n",
      "\n",
      "    package                    |            build\n",
      "    ---------------------------|-----------------\n",
      "    conda-4.11.0               |   py38haa95532_0        14.4 MB\n",
      "    pyvisa-1.11.3              |   py38haa244fe_2         306 KB  conda-forge\n",
      "    xmltodict-0.12.0           |     pyhd3eb1b0_0          13 KB\n",
      "    ------------------------------------------------------------\n",
      "                                           Total:        14.8 MB\n",
      "\n",
      "The following packages will be UPDATED:\n",
      "\n",
      "  conda                               4.10.3-py38haa95532_0 --> 4.11.0-py38haa95532_0\n",
      "  pyvisa                              1.11.3-py38haa244fe_1 --> 1.11.3-py38haa244fe_2\n",
      "\n",
      "The following packages will be DOWNGRADED:\n",
      "\n",
      "  xmltodict                                     0.12.0-py_0 --> 0.12.0-pyhd3eb1b0_0\n",
      "\n",
      "\n",
      "\n",
      "Downloading and Extracting Packages\n",
      "\n",
      "conda-4.11.0         | 14.4 MB   |            |   0% \n",
      "conda-4.11.0         | 14.4 MB   |            |   0% \n",
      "conda-4.11.0         | 14.4 MB   | 1          |   1% \n",
      "conda-4.11.0         | 14.4 MB   | 7          |   8% \n",
      "conda-4.11.0         | 14.4 MB   | #1         |  11% \n",
      "conda-4.11.0         | 14.4 MB   | ##         |  21% \n",
      "conda-4.11.0         | 14.4 MB   | ##6        |  27% \n",
      "conda-4.11.0         | 14.4 MB   | ###3       |  34% \n",
      "conda-4.11.0         | 14.4 MB   | ####2      |  43% \n",
      "conda-4.11.0         | 14.4 MB   | #####3     |  54% \n",
      "conda-4.11.0         | 14.4 MB   | ######1    |  62% \n",
      "conda-4.11.0         | 14.4 MB   | ######9    |  69% \n",
      "conda-4.11.0         | 14.4 MB   | #######9   |  80% \n",
      "conda-4.11.0         | 14.4 MB   | ########7  |  88% \n",
      "conda-4.11.0         | 14.4 MB   | #########8 |  98% \n",
      "conda-4.11.0         | 14.4 MB   | ########## | 100% \n",
      "\n",
      "xmltodict-0.12.0     | 13 KB     |            |   0% \n",
      "xmltodict-0.12.0     | 13 KB     | ########## | 100% \n",
      "xmltodict-0.12.0     | 13 KB     | ########## | 100% \n",
      "\n",
      "pyvisa-1.11.3        | 306 KB    |            |   0% \n",
      "pyvisa-1.11.3        | 306 KB    | 5          |   5% \n",
      "pyvisa-1.11.3        | 306 KB    | ######2    |  63% \n",
      "pyvisa-1.11.3        | 306 KB    | ########## | 100% \n",
      "pyvisa-1.11.3        | 306 KB    | ########## | 100% \n",
      "Preparing transaction: ...working... done\n",
      "Verifying transaction: ...working... done\n",
      "Executing transaction: ...working... done\n"
     ]
    }
   ],
   "source": [
    "!conda update conda --yes"
   ]
  },
  {
   "cell_type": "code",
   "execution_count": 3,
   "id": "3b517880",
   "metadata": {},
   "outputs": [
    {
     "name": "stderr",
     "output_type": "stream",
     "text": [
      "usage: conda-script.py [-h] [-V] command ...\n",
      "conda-script.py: error: unrecognized arguments: LIST ALL INSTALLED PACKAGES WITH CONDA\n"
     ]
    }
   ],
   "source": [
    "!conda list # LIST ALL INSTALLED PACKAGES WITH CONDA"
   ]
  },
  {
   "cell_type": "code",
   "execution_count": 4,
   "id": "37371c56",
   "metadata": {},
   "outputs": [
    {
     "name": "stderr",
     "output_type": "stream",
     "text": [
      "usage: conda-script.py [-h] [-V] command ...\n",
      "conda-script.py: error: unrecognized arguments: # adding conda-forge to the available channels for better availability of packages\n"
     ]
    }
   ],
   "source": [
    "!conda config --append channels conda-forge # adding conda-forge to the available channels for better availability of packages"
   ]
  },
  {
   "cell_type": "code",
   "execution_count": null,
   "id": "c178e9b8",
   "metadata": {},
   "outputs": [],
   "source": [
    "#!conda install --yes python=3.8.1"
   ]
  },
  {
   "cell_type": "code",
   "execution_count": null,
   "id": "c317618a",
   "metadata": {},
   "outputs": [],
   "source": [
    "#!conda install --yes pymeasure #try this if it does not work --> !pip install -U pymeasure"
   ]
  },
  {
   "cell_type": "code",
   "execution_count": null,
   "id": "54d2f599",
   "metadata": {},
   "outputs": [],
   "source": [
    "#!conda install --yes pyvisa #try this if it does not work --> !pip install -U pyvisa"
   ]
  },
  {
   "cell_type": "code",
   "execution_count": null,
   "id": "480c5049",
   "metadata": {},
   "outputs": [],
   "source": [
    "#!conda install --yes scipy"
   ]
  },
  {
   "cell_type": "code",
   "execution_count": null,
   "id": "ebcbb35f",
   "metadata": {},
   "outputs": [],
   "source": [
    "#!pip install qontrol"
   ]
  },
  {
   "cell_type": "code",
   "execution_count": null,
   "id": "9a4939d2",
   "metadata": {},
   "outputs": [],
   "source": [
    "#!conda install --yes ipympl"
   ]
  },
  {
   "cell_type": "code",
   "execution_count": null,
   "id": "2eaeabe6",
   "metadata": {},
   "outputs": [],
   "source": [
    "#!conda install --yes -c intel scikit-learn"
   ]
  },
  {
   "cell_type": "code",
   "execution_count": null,
   "id": "38e7cbd5",
   "metadata": {},
   "outputs": [],
   "source": [
    "#!conda install --yes -c conda-forge ipywidgets"
   ]
  },
  {
   "cell_type": "code",
   "execution_count": null,
   "id": "472f950e",
   "metadata": {},
   "outputs": [],
   "source": [
    "#!conda install --yes ipympl"
   ]
  },
  {
   "cell_type": "code",
   "execution_count": null,
   "id": "6d97cc40",
   "metadata": {},
   "outputs": [],
   "source": [
    "#!conda install --yes wxPython # try this if it does not work --> !pip install -U wxPython"
   ]
  },
  {
   "cell_type": "code",
   "execution_count": null,
   "id": "fe8214a2",
   "metadata": {},
   "outputs": [],
   "source": [
    "#!pip install picosdk ------------------------------> #TODO: PIP3!"
   ]
  },
  {
   "cell_type": "code",
   "execution_count": null,
   "id": "381a60a9",
   "metadata": {},
   "outputs": [],
   "source": [
    "#!pip install logging "
   ]
  },
  {
   "cell_type": "code",
   "execution_count": 5,
   "id": "d151a114",
   "metadata": {},
   "outputs": [
    {
     "name": "stdout",
     "output_type": "stream",
     "text": [
      "Collecting opencv-contrib-python\n",
      "  Downloading opencv_contrib_python-4.5.5.62-cp36-abi3-win_amd64.whl (42.2 MB)\n",
      "Requirement already satisfied: numpy>=1.14.5 in c:\\users\\lucag\\anaconda3\\lib\\site-packages (from opencv-contrib-python) (1.20.1)\n",
      "Installing collected packages: opencv-contrib-python\n",
      "Successfully installed opencv-contrib-python-4.5.5.62\n"
     ]
    }
   ],
   "source": [
    "!pip install opencv-contrib-python"
   ]
  },
  {
   "cell_type": "code",
   "execution_count": 6,
   "id": "5edeb818",
   "metadata": {},
   "outputs": [
    {
     "name": "stdout",
     "output_type": "stream",
     "text": [
      "Collecting imutils\n",
      "  Downloading imutils-0.5.4.tar.gz (17 kB)\n",
      "Building wheels for collected packages: imutils\n",
      "  Building wheel for imutils (setup.py): started\n",
      "  Building wheel for imutils (setup.py): finished with status 'done'\n",
      "  Created wheel for imutils: filename=imutils-0.5.4-py3-none-any.whl size=25860 sha256=0382218767f5ffcbf5c9b482f9f7028eda871a698c6c43fc8febaa0354cc0f30\n",
      "  Stored in directory: c:\\users\\lucag\\appdata\\local\\pip\\cache\\wheels\\59\\1b\\52\\0dea905f8278d5514dc4d0be5e251967f8681670cadd3dca89\n",
      "Successfully built imutils\n",
      "Installing collected packages: imutils\n",
      "Successfully installed imutils-0.5.4\n"
     ]
    }
   ],
   "source": [
    "!pip install imutils"
   ]
  },
  {
   "cell_type": "code",
   "execution_count": null,
   "id": "b4fdc3c5",
   "metadata": {},
   "outputs": [],
   "source": [
    "#!conda list\n",
    "#import wx\n",
    "#<X>.__version__ # TO CHECK THE <X> MODULE VERSION"
   ]
  }
 ],
 "metadata": {
  "kernelspec": {
   "display_name": "Python 3",
   "language": "python",
   "name": "python3"
  },
  "language_info": {
   "codemirror_mode": {
    "name": "ipython",
    "version": 3
   },
   "file_extension": ".py",
   "mimetype": "text/x-python",
   "name": "python",
   "nbconvert_exporter": "python",
   "pygments_lexer": "ipython3",
   "version": "3.8.8"
  }
 },
 "nbformat": 4,
 "nbformat_minor": 5
}
