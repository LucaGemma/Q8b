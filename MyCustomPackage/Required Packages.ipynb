{
 "cells": [
  {
   "cell_type": "markdown",
   "id": "optimum-construction",
   "metadata": {},
   "source": [
    "# Required Packages\n",
    "## Run this to fecth and install all required packages"
   ]
  },
  {
   "cell_type": "code",
   "execution_count": 1,
   "id": "appreciated-grocery",
   "metadata": {},
   "outputs": [
    {
     "name": "stdout",
     "output_type": "stream",
     "text": [
      "3.8.8 (default, Apr 13 2021, 15:08:03) [MSC v.1916 64 bit (AMD64)]\n"
     ]
    }
   ],
   "source": [
    "import sys\n",
    "print(sys.version)\n",
    "user = 'admin' # for BO1 -> 'admin'\n",
    "sys.path.append(r'C:\\Users\\PC\\picosdk-python-wrappers')\n",
    "#import pymeasure"
   ]
  },
  {
   "cell_type": "code",
   "execution_count": 2,
   "id": "adjustable-tourist",
   "metadata": {},
   "outputs": [
    {
     "name": "stdout",
     "output_type": "stream",
     "text": [
      "Collecting package metadata (current_repodata.json): ...working... done\n",
      "Solving environment: ...working... failed with initial frozen solve. Retrying with flexible solve.\n",
      "Collecting package metadata (repodata.json): ...working... done\n",
      "Solving environment: ...working... failed with initial frozen solve. Retrying with flexible solve.\n"
     ]
    },
    {
     "name": "stderr",
     "output_type": "stream",
     "text": [
      "\n",
      "PackagesNotFoundError: The following packages are not available from current channels:\n",
      "\n",
      "  - picosdk\n",
      "\n",
      "Current channels:\n",
      "\n",
      "  - https://repo.anaconda.com/pkgs/main/win-64\n",
      "  - https://repo.anaconda.com/pkgs/main/noarch\n",
      "  - https://repo.anaconda.com/pkgs/r/win-64\n",
      "  - https://repo.anaconda.com/pkgs/r/noarch\n",
      "  - https://repo.anaconda.com/pkgs/msys2/win-64\n",
      "  - https://repo.anaconda.com/pkgs/msys2/noarch\n",
      "  - https://conda.anaconda.org/conda-forge/win-64\n",
      "  - https://conda.anaconda.org/conda-forge/noarch\n",
      "\n",
      "To search for alternate channels that may provide the conda package you're\n",
      "looking for, navigate to\n",
      "\n",
      "    https://anaconda.org\n",
      "\n",
      "and use the search bar at the top of the page.\n",
      "\n",
      "\n"
     ]
    }
   ],
   "source": [
    "#!conda list # LIST ALL INSTALLED PACKAGES WITH CONDA\n",
    "#!conda config --append channels conda-forge # adding conda-forge to the available channels for better availability of pcakages\n",
    "#!conda install --yes --prefix {sys.prefix} python=3.8.1\n",
    "#!conda install --yes --prefix {sys.prefix} pymeasure #try this if it does not work --> !pip install -U pymeasure\n",
    "#!conda install --yes --prefix {sys.prefix} pyvisa #try this if it does not work --> !pip install -U pyvisa\n",
    "#!conda install --yes scipy\n",
    "#!pip install qontrol\n",
    "#!conda install --yes --prefix {sys.prefix} ipympl\n",
    "#!conda install --yes --prefix {sys.prefix} -c intel scikit-learn\n",
    "#!conda install --yes --prefix {sys.prefix} -c conda-forge ipywidgets\n",
    "#!conda install --yes ipympl\n",
    "#!conda install --yes wxPython # try this if it does not work --> !pip install -U wxPython\n",
    "#!pip install picosdk\n",
    "#!pip install logging\n",
    "#!conda list\n",
    "#import wx\n",
    "#<X>.__version__ # TO CHECK THE <X> MODULE VERSION"
   ]
  },
  {
   "cell_type": "code",
   "execution_count": null,
   "id": "geological-bowling",
   "metadata": {},
   "outputs": [],
   "source": []
  }
 ],
 "metadata": {
  "kernelspec": {
   "display_name": "Python 3",
   "language": "python",
   "name": "python3"
  },
  "language_info": {
   "codemirror_mode": {
    "name": "ipython",
    "version": 3
   },
   "file_extension": ".py",
   "mimetype": "text/x-python",
   "name": "python",
   "nbconvert_exporter": "python",
   "pygments_lexer": "ipython3",
   "version": "3.8.8"
  }
 },
 "nbformat": 4,
 "nbformat_minor": 5
}
