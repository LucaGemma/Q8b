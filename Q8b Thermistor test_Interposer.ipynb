{
 "cells": [
  {
   "cell_type": "code",
   "execution_count": 1,
   "metadata": {
    "scrolled": true
   },
   "outputs": [
    {
     "name": "stdout",
     "output_type": "stream",
     "text": [
      "Qontroller 'Q8b-0470' initialised with firmware v2.4.1 and 16 channels\n"
     ]
    }
   ],
   "source": [
    "import sys\n",
    "username = 'admin' # 'admin' for BO1 lab\n",
    "sys.path.append('c:/users/'+ username +'/miniconda3/lib/site-packages')\n",
    "import qontrol\n",
    "import os\n",
    "\n",
    "# file name\n",
    "filename = \"Resistance_measurements_Test.txt\"\n",
    "\n",
    "# Setup Qontroller\n",
    "serial_port_name = \"COM4\" #\"/dev/tty.usbserial-FT06QAZ5\" # name of the USB Serial Port\n",
    "q = qontrol.QXOutput(serial_port_name = serial_port_name, response_timeout = 0.1)\n",
    "\n",
    "print (\"Qontroller '{:}' initialised with firmware {:} and {:} channels\".format(q.device_id, q.firmware, q.n_chs) )\n",
    "\n",
    "# Set voltage on each channel to its index in volts, read voltage, current\n",
    "\n",
    "channel_list = [0, 5, 8, 12] # the channels to retrieve resistance measurements from\n",
    "voltage_list = [4.0, 4.0, 4.0, 4.0] # the voltages to be applied to each channel\n",
    "\n",
    "measured_voltage_list = [] # the voltages read \n",
    "measured_current_list = [] # the current read \n",
    "derived_resistance_list = [] # the derived resistances\n",
    "\n",
    "max_current = 50 # current compliance\n",
    "max_voltage = 12 # voltage compliance\n",
    "\n",
    "# resolutions for computing measurement error\n",
    "\n",
    "current_resolution = 0.049 # in mA =  49 uA\n",
    "voltage_resolution = 0.000180 # in V = 180 uV\n",
    "\n",
    "#Set current for channel K\n",
    "#I = 0\n",
    "#q.i[K] = I\n",
    "\n",
    "# Set the compliances\n",
    "for channel in range(q.n_chs):\n",
    "    q.imax[channel] = max_current\n",
    "    q.vmax[channel] = max_voltage\n",
    "    \n",
    "#Set voltage for each channel\n",
    "for channel in range(channel_list):\n",
    "    q.v[channel_list[channel]] = voltage_list[channel] \n",
    "    \n",
    "# Open the log file\n",
    "meas_file = open(filename, \"a\")\n",
    "if os.stat(filename).st_size == 0:\n",
    "    meas_file.write( \"Channel,Voltage[V],Measured_Voltage[V],Measured_Current[mA],Derived_Resistance[Ohm]\\n\")"
   ]
  },
  {
   "cell_type": "code",
   "execution_count": 2,
   "metadata": {},
   "outputs": [
    {
     "name": "stdout",
     "output_type": "stream",
     "text": [
      "Channel 0 set to 4.0 V, measured 3.999900000000007 V and +17.899937 mA\n",
      "\n",
      "The derived resistance is: 223.45888703407167 Ohm\n",
      "\n",
      "Channel 5 set to 4.0 V, measured 3.9999 V and +0.325500 mA\n",
      "\n",
      "The derived resistance is: 12288.47926267281 Ohm\n",
      "\n",
      "Channel 8 set to 4.0 V, measured 3.9999 V and +0.935800 mA\n",
      "\n",
      "The derived resistance is: 4274.31075016029 Ohm\n",
      "\n",
      "Channel 12 set to 4.0 V, measured 3.9999 V and +0.203400 mA\n",
      "\n",
      "The derived resistance is: 19665.191740412978 Ohm\n",
      "\n",
      "Qontroller.issue_command: Warning: Response to write command I7=0 timed out.\n",
      "Qontroller.issue_command: Warning: Response to write command I14=0 timed out.\n"
     ]
    }
   ],
   "source": [
    "# perform a single measurement from all channels, print them on screen and log them on file\n",
    "for channel in range(channel_list):\n",
    "    measured_voltage_list.append(q.v[channel_list[channel]])\n",
    "    measured_current_list.append(q.i[channel_list[channel]])\n",
    "    derived_resistance_list.append(measured_voltage_list[-1]/measured_current_list[-1])*1000)\n",
    "    print(\"Channel {:} set to {:} V, measured {:} V and {:+05.2f} mA\\n\".format(channel_list[channel], voltage_list[channel], measured_voltage_list[-1], measured_current_list[-1]))\n",
    "    print(\"The derived resistance is: {:} Ohm\\n\".format(derived_resistance_list[-1]))\n",
    "    meas_file.write(str(channel_list[channel]) + \",\" + str(voltage_list[channel]) + \",\" + str(measured_voltage_list[-1]) + \",\" + str(measured_current_list[-1]) + \",\" + str(derived_resistance_list[-1])+ \"\\n\")\n",
    "\n",
    "# Close the log file\n",
    "meas_file.close()\n",
    "\n",
    "# Set all channels to zero\n",
    "q.v[:] = 0\n",
    "q.i[:] = 0\n",
    "\n",
    "q.close()\n",
    "\n",
    "#help(qontrol.QXOutput)"
   ]
  },
  {
   "cell_type": "code",
   "execution_count": null,
   "metadata": {},
   "outputs": [],
   "source": []
  }
 ],
 "metadata": {
  "kernelspec": {
   "display_name": "Python 3",
   "language": "python",
   "name": "python3"
  },
  "language_info": {
   "codemirror_mode": {
    "name": "ipython",
    "version": 3
   },
   "file_extension": ".py",
   "mimetype": "text/x-python",
   "name": "python",
   "nbconvert_exporter": "python",
   "pygments_lexer": "ipython3",
   "version": "3.7.7"
  }
 },
 "nbformat": 4,
 "nbformat_minor": 2
}
