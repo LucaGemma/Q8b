{
 "cells": [
  {
   "cell_type": "code",
   "execution_count": 2,
   "metadata": {
    "scrolled": false
   },
   "outputs": [
    {
     "name": "stdout",
     "output_type": "stream",
     "text": [
      "Qontroller 'Q8b-0471' initialised with firmware v2.4.1 and 32 channels\n"
     ]
    }
   ],
   "source": [
    "import sys\n",
    "username = 'admin' # 'admin' for BO1 lab\n",
    "sys.path.append('c:/users/'+ username +'/miniconda3/lib/site-packages')\n",
    "import qontrol\n",
    "import os\n",
    "\n",
    "# file name\n",
    "name = \"First_test.txt\" #\"Resistance_measurements_Test_Q5-04-10_CHN0_T25T16_MZI.txt\"\n",
    "path = \"G:/Shared drives/FMPS Archive/Projects/0_QPIXPAD/QPX4/Opt.Meas/20211013_Q3_+02_+08/Q8b\" #\"G:/Shared drives/FMPS Archive/Projects/0_QPIXPAD/QPX4/Opt.Meas/20210728_Q5_-04_-10_nodp/Q8b/\"\n",
    "filename = path + name\n",
    "# Setup Qontroller\n",
    "serial_port_name = \"COM3\" #\"COM3\" #\"/dev/tty.usbserial-FT06QAZ5\" # name of the USB Serial Port\n",
    "q = qontrol.QXOutput(serial_port_name = serial_port_name, response_timeout = 0.1)\n",
    "\n",
    "print (\"Qontroller '{:}' initialised with firmware {:} and {:} channels\".format(q.device_id, q.firmware, q.n_chs) )\n",
    "\n",
    "# Set voltage on each channel to its index in volts, read voltage, current\n",
    "\n",
    "channel_list = [k for k in range(8)] # the channels to retrieve resistance measurements from\n",
    "voltage_list = [3.0 for k in range(8)] # the voltages to be applied to each channel\n",
    "\n",
    "measured_voltage_list = [] # the voltages read \n",
    "measured_current_list = [] # the current read \n",
    "derived_resistance_list = [] # the derived resistances\n",
    "\n",
    "max_current = 16 # current compliance #16\n",
    "max_voltage = 3 # voltage compliance\n",
    "\n",
    "# resolutions for computing measurement error\n",
    "\n",
    "current_resolution = 0.049 # in mA =  49 uA\n",
    "voltage_resolution = 0.000180 # in V = 180 uV\n",
    "\n",
    "#Set current for channel K\n",
    "#I = 0\n",
    "#q.i[K] = I\n",
    "\n",
    "# Set the compliances\n",
    "for channel in range(q.n_chs):\n",
    "    q.imax[channel] = max_current\n",
    "    q.vmax[channel] = max_voltage\n",
    "    \n",
    "#Set voltage for each channel\n",
    "for channel in range(len(channel_list)):\n",
    "    q.v[channel_list[channel]] = voltage_list[channel] \n",
    "    \n",
    "# Open the log file\n",
    "meas_file = open(filename, \"a\")\n",
    "if os.stat(filename).st_size == 0:\n",
    "    meas_file.write( \"Channel,Voltage[V],Measured_Voltage[V],Measured_Current[mA],Derived_Resistance[Ohm]\\n\")"
   ]
  },
  {
   "cell_type": "code",
   "execution_count": null,
   "metadata": {},
   "outputs": [],
   "source": [
    "# perform a single measurement from all channels, print them on screen and log them on file\n",
    "for channel in range(len(channel_list)):\n",
    "    measured_voltage_list.append(q.v[channel_list[channel]])\n",
    "    measured_current_list.append(q.i[channel_list[channel]])\n",
    "    if (measured_current_list[-1]>=current_resolution):\n",
    "        derived_resistance_list.append((measured_voltage_list[-1]/measured_current_list[-1])*1000)\n",
    "    else:\n",
    "         derived_resistance_list.append(-1)\n",
    "    print(\"Channel {:} set to {:} V, measured {:} V and {:+05.2f} mA\\n\".format(channel_list[channel], voltage_list[channel], measured_voltage_list[-1], measured_current_list[-1]))\n",
    "    print(\"The derived resistance is: {:} Ohm\\n\".format(derived_resistance_list[-1]))\n",
    "    meas_file.write(str(channel_list[channel]) + \",\" + str(voltage_list[channel]) + \",\" + str(measured_voltage_list[-1]) + \",\" + str(measured_current_list[-1]) + \",\" + str(derived_resistance_list[-1])+ \"\\n\")\n",
    "\n",
    "# Close the log file\n",
    "meas_file.close()\n",
    "\n",
    "# Set all channels to zero\n",
    "q.v[:] = 0\n",
    "q.i[:] = 0\n",
    "\n",
    "q.close()\n",
    "\n",
    "#help(qontrol.QXOutput)"
   ]
  },
  {
   "cell_type": "code",
   "execution_count": null,
   "metadata": {},
   "outputs": [],
   "source": []
  }
 ],
 "metadata": {
  "kernelspec": {
   "display_name": "Python 3",
   "language": "python",
   "name": "python3"
  },
  "language_info": {
   "codemirror_mode": {
    "name": "ipython",
    "version": 3
   },
   "file_extension": ".py",
   "mimetype": "text/x-python",
   "name": "python",
   "nbconvert_exporter": "python",
   "pygments_lexer": "ipython3",
   "version": "3.8.8"
  }
 },
 "nbformat": 4,
 "nbformat_minor": 2
}
