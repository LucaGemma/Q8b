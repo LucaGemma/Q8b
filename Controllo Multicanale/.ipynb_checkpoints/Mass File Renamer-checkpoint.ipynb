{
 "cells": [
  {
   "cell_type": "markdown",
   "id": "74990026",
   "metadata": {},
   "source": [
    "# Mass File Renamer\n",
    "This code rename all files contained in the \"Log\" folder \n",
    "from -> ['Multiple', 'channels', 'control', '2021', '1', '20', '12', '36', '52']                                       \n",
    "to -> ['Multiple', 'channels', 'control', '20', '01', '2021', '17', '16', '30']"
   ]
  },
  {
   "cell_type": "code",
   "execution_count": 1,
   "id": "73b9b4c0",
   "metadata": {},
   "outputs": [],
   "source": [
    "import os\n",
    "     \n",
    "def mass_file_renamer(directory):\n",
    "    \n",
    "    #change to the target directory  \n",
    "    os.chdir(directory) \n",
    "\n",
    "    # sequentially open each file and scramble its name to the correct pattern\n",
    "    for i in os.listdir(): \n",
    "        f = open(i,\"r\") \n",
    "        filename = f.name\n",
    "        name_split = f.name.strip(\".txt\").split(\"_\")\n",
    "        f.close()\n",
    "        os.rename(filename, name_split[0] + \"_\" + name_split[1] + \"_\" + name_split[2] + \"_\" + name_split[5] + \"_\" \\\n",
    "                  + '0' + name_split[4] + \"_\" + name_split[3] + \"_\" + name_split[6] + \"_\" + name_split[7] + \"_\" \\\n",
    "                  + name_split[8] + \".txt\")\n",
    "    \n",
    "    return;\n",
    "\n",
    "directory_list = ['./Log']\n",
    "\n",
    "for directory in directory_list: \n",
    "    mass_file_renamer(directory)"
   ]
  }
 ],
 "metadata": {
  "kernelspec": {
   "display_name": "Python 3",
   "language": "python",
   "name": "python3"
  },
  "language_info": {
   "codemirror_mode": {
    "name": "ipython",
    "version": 3
   },
   "file_extension": ".py",
   "mimetype": "text/x-python",
   "name": "python",
   "nbconvert_exporter": "python",
   "pygments_lexer": "ipython3",
   "version": "3.8.8"
  }
 },
 "nbformat": 4,
 "nbformat_minor": 5
}
