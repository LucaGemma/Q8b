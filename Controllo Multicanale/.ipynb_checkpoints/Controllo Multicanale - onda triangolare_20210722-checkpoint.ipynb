{
 "cells": [
  {
   "cell_type": "markdown",
   "metadata": {},
   "source": [
    "# Controllo Multicanale - onda triangolare\n",
    "\n",
    "Il programma controlla in tensione i canali specificati nella lista \"channels\" con uno sweep da \"voltage_start'' a ''voltage_stop'' per poi tornare a \"voltage_start'', legge le rispettive tensioni e correnti, le salva su file e le visualizza a video con grafici. \n",
    "\n",
    "## 1) Import"
   ]
  },
  {
   "cell_type": "code",
   "execution_count": 1,
   "metadata": {},
   "outputs": [],
   "source": [
    "# Required imports\n",
    "import sys\n",
    "username = 'admin' # 'admin' for BO1 lab\n",
    "sys.path.append('c:/users/'+ username +'/miniconda3/lib/site-packages')\n",
    "import matplotlib.pyplot as plt\n",
    "import qontrol\n",
    "import os\n",
    "import time\n",
    "import numpy as np\n",
    "import datetime\n",
    "import os.path\n",
    "\n",
    "%matplotlib inline"
   ]
  },
  {
   "cell_type": "markdown",
   "metadata": {},
   "source": [
    "## 2) Dichiarazione variabili e setup driver"
   ]
  },
  {
   "cell_type": "code",
   "execution_count": 2,
   "metadata": {},
   "outputs": [
    {
     "name": "stdout",
     "output_type": "stream",
     "text": [
      "Qontroller 'Q8b-0471' initialised with firmware v2.4.1 and 16 channels\n"
     ]
    }
   ],
   "source": [
    "# Variable declarations\n",
    "voltage = 8.0\n",
    "repetitions = 100\n",
    "channels = [2] # the channels connected to the device\n",
    "#channels = [k for k in range(10)] # the channels connected to the device\n",
    "channel_PD = 3 # the channel connected to the photodiode\n",
    "voltage_PD = 0 # the voltage to be set to the photodiode\n",
    "voltage_start = [0.0 for j in range(len(channels))] # starting voltage values for each channel\n",
    "voltage_stop = [voltage for j in range(len(channels))] # stopping voltage values for each channel\n",
    "voltage_step = [0.2 for j in range(len(channels))] # voltage steps for each channel\n",
    "max_current = 50 # current compliance\n",
    "max_voltage = 12 # voltage compliance\n",
    "measured_voltage = [[[] for i in range(len(channels))] for j in range(len(channels))] # measured_voltage[channels][channel_under_sweep][measurement]\n",
    "measured_current = [[[] for i in range(len(channels))] for j in range(len(channels))] # current measurements\n",
    "PD_voltage = [[] for i in range(len(channels))] # PD voltage measurements\n",
    "PD_current = [[] for i in range(len(channels))] # PD current measurements\n",
    "F_move_on = 0 # FLAG : 0 for pausing when a channel sweep is done\n",
    "F_overlapping_plots = 1 # FLAG : 0 for non overlapping plots, not 0 otherwise \n",
    "F_triangular = 1 # FLAG : 0 for ramp sweep, 1 for triangular sweep\n",
    "now = datetime.datetime.now() # retrieve current date and time (for file name)\n",
    "\n",
    "# Configuration (Laser and Amplifier)\n",
    "laser_wavelength = 697\n",
    "laser_power = 5\n",
    "amplifier_gain = 40\n",
    "\n",
    "device = \"T22T16_\" + str(voltage)  + \"V_100sweep\"\n",
    "\n",
    "# Set the right path and file\n",
    "save_path = \"G:/Shared drives/FMPS Archive/Projects/0_QPIXPAD/QPX4/Opt.Meas/20210720_Q5_-5/Characterization_tests/\"\n",
    "file_name = \"Multiple_channels_control_\" + now.strftime(\"%d_%m_%Y_%H_%M_%S\")+ device + '.txt' \n",
    "completeName = os.path.join(save_path, file_name)\n",
    "\n",
    "# Build the header of the file as timestamp+configuration+annotation+voltage_parameters+description\n",
    "timestamp = '%'+now.strftime(\"%d/%m/%Y %H:%M:%S\")\n",
    "configuration = '\\n%Laser Wavelength:' + str(laser_wavelength) + '[nm]\\n%Laser Power:' +str(laser_power) + '[mW]\\n%Amplifier Gain:' \\\n",
    "              + str(amplifier_gain) + '[dB]'\n",
    "# LEFT          RIGHT\n",
    "# 1              1\n",
    "# 2              2\n",
    "# Le misure con annotazione (%Di oggi 20 gennaio da questa in poi sono trans, le altre precedenti erano CIS) sono 1 - 2\n",
    "# Le misure con annotazione (%Min Scattering Trans) sono 1 - 1\n",
    "annotation = '\\n%2-2\\n'\n",
    "\n",
    "voltage_parameters = '%' # voltage_parameters are voltage_start, voltage_stop, voltage_step, triangular\n",
    "for element in voltage_start:\n",
    "    voltage_parameters += str(element) + '\\t'\n",
    "voltage_parameters += '\\n%'\n",
    "for element in voltage_stop:\n",
    "    voltage_parameters += str(element) + '\\t'\n",
    "voltage_parameters += '\\n%'\n",
    "for element in voltage_step:\n",
    "    voltage_parameters += str(element) + '\\t'\n",
    "voltage_parameters += '\\n%' + str(F_triangular) + '\\n'\n",
    "\n",
    "description = '%Swipe sulla tensione con onda sinusoidale su un canale, canali rimanenti a 0 V.Ciascun canale pilota una termoresistenza.' + device\n",
    "header = timestamp+configuration+annotation+voltage_parameters+description\n",
    "\n",
    "# Write the header and the column headers to the file\n",
    "meas_file = open(completeName, \"a\")\n",
    "meas_file.write(header)\n",
    "meas_file.write(\"%PD at channel \" + str(channel_PD) + \": Voltage [V]\\tCurrent [mA]\")\n",
    "for j in range(len(channels)):\n",
    "    meas_file.write(\"\\tChannel \" +str(channels[j]) + \" : Voltage [V]\\tCurrent [mA]\")\n",
    "meas_file.write(\"\\n\")\n",
    "\n",
    "\n",
    "# Setup Qontroller\n",
    "serial_port_name = \"COM3\" #\"COM3\" #\"/dev/tty.usbserial-FT06QAZ5\" # name of the USB Serial Port #//./COM11\n",
    "q = qontrol.QXOutput(serial_port_name = serial_port_name, response_timeout = 0.1)\n",
    "\n",
    "# Set the compliances\n",
    "for channel in range(q.n_chs):\n",
    "    q.imax[channel] = max_current\n",
    "    q.vmax[channel] = max_voltage\n",
    "\n",
    "# Video Debugging\n",
    "print (\"Qontroller '{:}' initialised with firmware {:} and {:} channels\".format(q.device_id, q.firmware, q.n_chs) )"
   ]
  },
  {
   "cell_type": "markdown",
   "metadata": {},
   "source": [
    "## 3) Acquisizione e visualizzazione dati"
   ]
  },
  {
   "cell_type": "code",
   "execution_count": 3,
   "metadata": {
    "scrolled": true
   },
   "outputs": [
    {
     "name": "stdout",
     "output_type": "stream",
     "text": [
      "\n",
      "DRIVING CHANNEL 2 NOW \n",
      "\n",
      "Qontroller.issue_command: Warning: Response to write command I15=0 timed out.\n"
     ]
    },
    {
     "data": {
      "image/png": "[encoded data removed]",
      "text/plain": [
       "<Figure size 432x288 with 2 Axes>"
      ]
     },
     "metadata": {
      "needs_background": "light"
     },
     "output_type": "display_data"
    }
   ],
   "source": [
    "# PD voltage setting\n",
    "q.v[channel_PD] = voltage_PD\n",
    "\n",
    "#Set current for channel K\n",
    "#q.i[K] = I\n",
    "\n",
    "skipped_channels = [] # keep tracks of skipped channels (so it knows what columns to skip)\n",
    "\n",
    "# Perform a voltage sweep for each channel    \n",
    "for channel_n in range(len(channels)):\n",
    "    \n",
    "    F_move_on = 1 #int(input(\"Do you want to move to channel \" + str(channels[channel_n]) + \"? Skip -> 0 Do the swipe -> 1\\n\"))  \n",
    "    if F_move_on == 1: # ask wheter to execute or skip current swipe\n",
    "\n",
    "        print(\"\\nDRIVING CHANNEL {:} NOW \\n\" .format(channels[channel_n]))\n",
    "\n",
    "        # set all channels to their voltage_start values\n",
    "        for k in range(len(channels)):\n",
    "            q.v[channels[k]] = float(voltage_start[k])\n",
    "\n",
    "        #check if we want to generate a triangular sweep or not\n",
    "        if F_triangular == 1:\n",
    "            sweep_range = np.concatenate((np.arange(voltage_start[channel_n], voltage_stop[channel_n], voltage_step[channel_n]),\\\n",
    "                            np.arange(voltage_stop[channel_n], voltage_start[channel_n], -voltage_step[channel_n])))\n",
    "        elif F_triangular == 0:\n",
    "            sweep_range = np.arange(voltage_start[0], voltage_stop[0]+voltage_step[0], voltage_step[0])\n",
    "        else:\n",
    "            print('invalid value for triangular')\n",
    "        for z in range(repetitions):\n",
    "            for voltage_sweep in sweep_range: \n",
    "                q.v[channels[channel_n]] = float(voltage_sweep)\n",
    "                temp_voltage = q.v[channel_PD]\n",
    "                temp_current = -q.i[channel_PD]\n",
    "                PD_voltage[channel_n].append(temp_voltage)\n",
    "                PD_current[channel_n].append(temp_current)\n",
    "                #print(\"PD [ch {:}] : Voltage -> {:} V, Current -> {:} mA\" .format(channel_PD, temp_voltage, temp_current))\n",
    "                meas_file.write('{:+010.6f}\\t{:+010.6f}' .format(temp_voltage,  temp_current))\n",
    "\n",
    "                for j in range(len(channels)): # acquire voltage and current for all channels. Then print them on screen and save them on file\n",
    "                    temp_voltage = q.v[channels[j]]\n",
    "                    temp_current = q.i[channels[j]]\n",
    "                    measured_voltage[j][channel_n].append(temp_voltage)\n",
    "                    measured_current[j][channel_n].append(temp_current)\n",
    "                    #print(\"Channel {:} : Voltage -> {:} V, Current -> {:} mA\" .format(channels[j], temp_voltage, temp_current))\n",
    "                    meas_file.write(\"\\t{:+010.6f}\\t{:+010.6f}\" .format(temp_voltage, temp_current))\n",
    "                meas_file.write(\"\\n\")\n",
    "\n",
    "\n",
    "        # at the end of each sweep, set all channels to their voltage_start values\n",
    "        for k in range(len(channels)):\n",
    "            q.v[channels[k]] = float(voltage_start[k])\n",
    "    else:\n",
    "        continue\n",
    "\n",
    "# Plot results\n",
    "fig, axs = plt.subplots(2,1)\n",
    "\n",
    "axs[0].set_title('Channel Voltage vs  Channel Current ')\n",
    "axs[0].set_xlabel('Voltage [V]')\n",
    "axs[0].set_ylabel('Current [mA]')\n",
    "axs[1].set_title('Channel Voltage vs  -PD Current ')\n",
    "axs[1].set_xlabel('Voltage [V]')\n",
    "axs[1].set_ylabel('Current [mA]')\n",
    "\n",
    "for i in range(len(channels)):\n",
    "    #print(\"\\nPLOTS FOR DRIVING CHANNEL {:} \\n\" .format(channels[i]))\n",
    "    if F_overlapping_plots == 0:\n",
    "        axs[0].plot(range(i*len(measured_current[i][i]),(i+1)*len(measured_current[i][i])), measured_current[i][i])\n",
    "        axs[1].plot(range(i*len(measured_current[i][i]),(i+1)*len(measured_current[i][i])), PD_current[i])\n",
    "    else:\n",
    "        axs[0].plot(measured_voltage[i][i], measured_current[i][i])\n",
    "        axs[1].plot(range(len(measured_current[i][i])), PD_current[i])\n",
    "plt.tight_layout()\n",
    "\n",
    "\n",
    "# Close the log file\n",
    "meas_file.close()\n",
    "\n",
    "# Set all channels to zero\n",
    "q.v[:] = 0\n",
    "q.i[:] = 0\n",
    "\n",
    "# Close the communication with the driver\n",
    "q.close()"
   ]
  }
 ],
 "metadata": {
  "kernelspec": {
   "display_name": "Python 3 (ipykernel)",
   "language": "python",
   "name": "python3"
  },
  "language_info": {
   "codemirror_mode": {
    "name": "ipython",
    "version": 3
   },
   "file_extension": ".py",
   "mimetype": "text/x-python",
   "name": "python",
   "nbconvert_exporter": "python",
   "pygments_lexer": "ipython3",
   "version": "3.7.3"
  }
 },
 "nbformat": 4,
 "nbformat_minor": 2
}
