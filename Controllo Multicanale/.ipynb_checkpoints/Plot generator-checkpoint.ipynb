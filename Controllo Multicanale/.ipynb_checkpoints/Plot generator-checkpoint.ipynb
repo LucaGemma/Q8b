{
 "cells": [
  {
   "cell_type": "markdown",
   "metadata": {},
   "source": [
    "# Plot generator\n",
    "Il programma apre un file .txt di misure di sweep di tensione, ricostruisce le liste di misure originali, le plotta e ne salva le immagini. Ciascun plot può essere sovrapposto o affiancato. \n"
   ]
  },
  {
   "cell_type": "code",
   "execution_count": 1,
   "metadata": {},
   "outputs": [],
   "source": [
    "# Required imports\n",
    "import sys\n",
    "username = 'admin' # 'admin' for BO1 lab\n",
    "sys.path.append('c:/users/'+ username +'/miniconda3/lib/site-packages')\n",
    "path_to_MyCustomPackage = '../' # relative path to the MyCustomPackage folder \n",
    "sys.path.append(path_to_MyCustomPackage)\n",
    "from MyCustomPackage import mycustommodule\n",
    "import matplotlib.pyplot as plt\n",
    "import qontrol\n",
    "import time\n",
    "import numpy as np\n",
    "import datetime\n",
    "import os\n",
    "\n",
    "# Set the right path and file\n",
    "lines = [] # list of lines of the .txt file\n",
    "file_name = \"Multiple_channels_control_20_01_2021_16_57_29.txt\"\n",
    "\n",
    "# Variable declarations\n",
    "F_overlapping_plots = 1 # 0 for non overlapping plots, not 0 otherwise\n",
    "voltage_start = [] # list of voltage starting values for each channel/try\n",
    "voltage_stop = []  # list of voltage stopping values for each channel/try\n",
    "voltage_step = []  # list of voltage steps for each channel/try"
   ]
  },
  {
   "cell_type": "code",
   "execution_count": 2,
   "metadata": {},
   "outputs": [],
   "source": [
    "def from_linenumb_to_active_channel(line_numb, channel_steps):\n",
    "    \"\"\"\n",
    "    map the line number to the active channel number. \n",
    "    N.B: the active channel is the one under sweeping\n",
    "    \"\"\"\n",
    "    total_steps = 0\n",
    "    for counter in range(len(channel_steps)):\n",
    "        if (line_numb >= total_steps) and (line_numb < total_steps+channel_steps[counter]):\n",
    "            return counter # the counter is exactly the active channel \n",
    "        total_steps += channel_steps[counter]        "
   ]
  },
  {
   "cell_type": "code",
   "execution_count": 3,
   "metadata": {},
   "outputs": [
    {
     "ename": "ValueError",
     "evalue": "could not convert string to float: ''",
     "output_type": "error",
     "traceback": [
      "\u001b[1;31m---------------------------------------------------------------------------\u001b[0m",
      "\u001b[1;31mValueError\u001b[0m                                Traceback (most recent call last)",
      "\u001b[1;32m~\\AppData\\Local\\Temp/ipykernel_11924/2140623509.py\u001b[0m in \u001b[0;36m<module>\u001b[1;34m\u001b[0m\n\u001b[0;32m     19\u001b[0m         \u001b[1;32mif\u001b[0m \u001b[0mi\u001b[0m \u001b[1;33m==\u001b[0m \u001b[1;36m5\u001b[0m\u001b[1;33m:\u001b[0m\u001b[1;33m\u001b[0m\u001b[1;33m\u001b[0m\u001b[0m\n\u001b[0;32m     20\u001b[0m             \u001b[1;31m# split into individual values and stripping the % and the \\n\u001b[0m\u001b[1;33m\u001b[0m\u001b[1;33m\u001b[0m\u001b[1;33m\u001b[0m\u001b[0m\n\u001b[1;32m---> 21\u001b[1;33m             \u001b[0mvoltage_start\u001b[0m \u001b[1;33m=\u001b[0m \u001b[1;33m[\u001b[0m\u001b[0mfloat\u001b[0m\u001b[1;33m(\u001b[0m\u001b[0ms\u001b[0m\u001b[1;33m.\u001b[0m\u001b[0mstrip\u001b[0m\u001b[1;33m(\u001b[0m\u001b[1;34m'%'\u001b[0m\u001b[1;33m)\u001b[0m\u001b[1;33m)\u001b[0m \u001b[1;32mfor\u001b[0m \u001b[0ms\u001b[0m \u001b[1;32min\u001b[0m \u001b[0mline\u001b[0m\u001b[1;33m.\u001b[0m\u001b[0mrstrip\u001b[0m\u001b[1;33m(\u001b[0m\u001b[1;34m'\\n'\u001b[0m\u001b[1;33m)\u001b[0m\u001b[1;33m.\u001b[0m\u001b[0msplit\u001b[0m\u001b[1;33m(\u001b[0m\u001b[1;34m'\\t'\u001b[0m\u001b[1;33m)\u001b[0m\u001b[1;33m]\u001b[0m\u001b[1;33m\u001b[0m\u001b[1;33m\u001b[0m\u001b[0m\n\u001b[0m\u001b[0;32m     22\u001b[0m         \u001b[1;32melif\u001b[0m \u001b[0mi\u001b[0m \u001b[1;33m==\u001b[0m \u001b[1;36m6\u001b[0m\u001b[1;33m:\u001b[0m\u001b[1;33m\u001b[0m\u001b[1;33m\u001b[0m\u001b[0m\n\u001b[0;32m     23\u001b[0m             \u001b[0mvoltage_stop\u001b[0m \u001b[1;33m=\u001b[0m \u001b[1;33m[\u001b[0m\u001b[0mfloat\u001b[0m\u001b[1;33m(\u001b[0m\u001b[0ms\u001b[0m\u001b[1;33m.\u001b[0m\u001b[0mstrip\u001b[0m\u001b[1;33m(\u001b[0m\u001b[1;34m'%'\u001b[0m\u001b[1;33m)\u001b[0m\u001b[1;33m)\u001b[0m \u001b[1;32mfor\u001b[0m \u001b[0ms\u001b[0m \u001b[1;32min\u001b[0m \u001b[0mline\u001b[0m\u001b[1;33m.\u001b[0m\u001b[0mrstrip\u001b[0m\u001b[1;33m(\u001b[0m\u001b[1;34m'\\n'\u001b[0m\u001b[1;33m)\u001b[0m\u001b[1;33m.\u001b[0m\u001b[0msplit\u001b[0m\u001b[1;33m(\u001b[0m\u001b[1;34m'\\t'\u001b[0m\u001b[1;33m)\u001b[0m\u001b[1;33m]\u001b[0m\u001b[1;33m\u001b[0m\u001b[1;33m\u001b[0m\u001b[0m\n",
      "\u001b[1;32m~\\AppData\\Local\\Temp/ipykernel_11924/2140623509.py\u001b[0m in \u001b[0;36m<listcomp>\u001b[1;34m(.0)\u001b[0m\n\u001b[0;32m     19\u001b[0m         \u001b[1;32mif\u001b[0m \u001b[0mi\u001b[0m \u001b[1;33m==\u001b[0m \u001b[1;36m5\u001b[0m\u001b[1;33m:\u001b[0m\u001b[1;33m\u001b[0m\u001b[1;33m\u001b[0m\u001b[0m\n\u001b[0;32m     20\u001b[0m             \u001b[1;31m# split into individual values and stripping the % and the \\n\u001b[0m\u001b[1;33m\u001b[0m\u001b[1;33m\u001b[0m\u001b[1;33m\u001b[0m\u001b[0m\n\u001b[1;32m---> 21\u001b[1;33m             \u001b[0mvoltage_start\u001b[0m \u001b[1;33m=\u001b[0m \u001b[1;33m[\u001b[0m\u001b[0mfloat\u001b[0m\u001b[1;33m(\u001b[0m\u001b[0ms\u001b[0m\u001b[1;33m.\u001b[0m\u001b[0mstrip\u001b[0m\u001b[1;33m(\u001b[0m\u001b[1;34m'%'\u001b[0m\u001b[1;33m)\u001b[0m\u001b[1;33m)\u001b[0m \u001b[1;32mfor\u001b[0m \u001b[0ms\u001b[0m \u001b[1;32min\u001b[0m \u001b[0mline\u001b[0m\u001b[1;33m.\u001b[0m\u001b[0mrstrip\u001b[0m\u001b[1;33m(\u001b[0m\u001b[1;34m'\\n'\u001b[0m\u001b[1;33m)\u001b[0m\u001b[1;33m.\u001b[0m\u001b[0msplit\u001b[0m\u001b[1;33m(\u001b[0m\u001b[1;34m'\\t'\u001b[0m\u001b[1;33m)\u001b[0m\u001b[1;33m]\u001b[0m\u001b[1;33m\u001b[0m\u001b[1;33m\u001b[0m\u001b[0m\n\u001b[0m\u001b[0;32m     22\u001b[0m         \u001b[1;32melif\u001b[0m \u001b[0mi\u001b[0m \u001b[1;33m==\u001b[0m \u001b[1;36m6\u001b[0m\u001b[1;33m:\u001b[0m\u001b[1;33m\u001b[0m\u001b[1;33m\u001b[0m\u001b[0m\n\u001b[0;32m     23\u001b[0m             \u001b[0mvoltage_stop\u001b[0m \u001b[1;33m=\u001b[0m \u001b[1;33m[\u001b[0m\u001b[0mfloat\u001b[0m\u001b[1;33m(\u001b[0m\u001b[0ms\u001b[0m\u001b[1;33m.\u001b[0m\u001b[0mstrip\u001b[0m\u001b[1;33m(\u001b[0m\u001b[1;34m'%'\u001b[0m\u001b[1;33m)\u001b[0m\u001b[1;33m)\u001b[0m \u001b[1;32mfor\u001b[0m \u001b[0ms\u001b[0m \u001b[1;32min\u001b[0m \u001b[0mline\u001b[0m\u001b[1;33m.\u001b[0m\u001b[0mrstrip\u001b[0m\u001b[1;33m(\u001b[0m\u001b[1;34m'\\n'\u001b[0m\u001b[1;33m)\u001b[0m\u001b[1;33m.\u001b[0m\u001b[0msplit\u001b[0m\u001b[1;33m(\u001b[0m\u001b[1;34m'\\t'\u001b[0m\u001b[1;33m)\u001b[0m\u001b[1;33m]\u001b[0m\u001b[1;33m\u001b[0m\u001b[1;33m\u001b[0m\u001b[0m\n",
      "\u001b[1;31mValueError\u001b[0m: could not convert string to float: ''"
     ]
    }
   ],
   "source": [
    "#change to the target directory  \n",
    "os.chdir('./Log') \n",
    "\n",
    "# sequentially open each file and perform information extraction and data visualization\n",
    "for j in os.listdir(): \n",
    "\n",
    "    # Variable re-initialization\n",
    "    lines = []\n",
    "    voltage_start = [] \n",
    "    voltage_stop = []  \n",
    "    voltage_step = []  \n",
    "    \n",
    "    file1 = open(j,\"r\") \n",
    "    filename = file1.name.strip(\".txt\")\n",
    "\n",
    "    # extract the voltage_start, voltage_stop, voltage_step and triangular from the file\n",
    "    for i in range(9):\n",
    "        line = file1.readline()\n",
    "        if i == 5:\n",
    "            # split into individual values and stripping the % and the \\n\n",
    "            voltage_start = [float(s.strip('%')) for s in line.rstrip('\\n').split('\\t')] \n",
    "        elif i == 6:\n",
    "            voltage_stop = [float(s.strip('%')) for s in line.rstrip('\\n').split('\\t')]\n",
    "        elif i == 7:\n",
    "            voltage_step = [float(s.strip('%')) for s in line.rstrip('\\n').split('\\t')]\n",
    "        elif i == 8:\n",
    "            F_triangular = int(line.rstrip('\\n').strip('%')) # FLAG : 0 for ramp sweep, 1 for triangular sweep\n",
    "        else:\n",
    "            pass        \n",
    "\n",
    "    # save each line as a list in the 'lines' list \n",
    "    for line in file1:\n",
    "        if line[0] != '%':\n",
    "            lines.append(line.rstrip('\\n').split('\\t'))\n",
    "\n",
    "    # compute the number of channels/tries\n",
    "    channels = int(len(lines[0])/2-1) # /2 because they are grouped in couples (current-voltages), \n",
    "                                      # -1 because first two columns are for PD\n",
    "    \n",
    "    # compute the total steps for each channel/try        \n",
    "    channel_steps = [int((F_triangular+1)*(voltage_stop[j]-voltage_start[j])/voltage_step[j]) for j in range(channels)]\n",
    "\n",
    "    # re-build the original measured_voltage, measured_current, PD_voltage and PD_current\n",
    "    # measured_voltage[channels][channel_under_sweep][measurement]\n",
    "    measured_voltage = [[[] for i in range(channels)] for j in range(channels)] \n",
    "    measured_current = [[[] for i in range(channels)] for j in range(channels)]\n",
    "    PD_voltage = [[] for i in range(channels)]\n",
    "    PD_current = [[] for i in range(channels)]\n",
    "\n",
    "    # populate each list\n",
    "    for i in range(len(lines)):\n",
    "        for channel in range(0,len(lines[0]),2):\n",
    "            if channel == 0: # first two columns of the file are for the PD voltage and current\n",
    "                PD_voltage[mycustommodule.from_linenumb_to_active_channel(i, channel_steps)].append(float(lines[i][channel]))\n",
    "                PD_current[mycustommodule.from_linenumb_to_active_channel(i, channel_steps)].append(float(lines[i][channel+1]))\n",
    "            else: # remaining columns are for the actual channels\n",
    "                measured_voltage[int((channel/2)-1)][mycustommodule.from_linenumb_to_active_channel(i, channel_steps)].append(float(lines[i][channel]))\n",
    "                measured_current[int((channel/2)-1)][mycustommodule.from_linenumb_to_active_channel(i, channel_steps)].append(float(lines[i][channel+1]))          \n",
    "\n",
    "    # Close the log file\n",
    "    file1.close()\n",
    "\n",
    "    # Plot results\n",
    "    fig, axs = plt.subplots(2,1)\n",
    "    fig.suptitle(filename)\n",
    "    \n",
    "    axs[0].set_title('Channel Voltage vs  Channel Current ')\n",
    "    axs[0].set_xlabel('Voltage [V]')\n",
    "    axs[0].set_ylabel('Current [mA]')\n",
    "    axs[1].set_title('Channel Voltage vs  -PD Voltage ')\n",
    "    axs[1].set_xlabel('Voltage [V]')\n",
    "    axs[1].set_ylabel('Voltage [mV]')\n",
    "\n",
    "    for i in range(channels):\n",
    "        #print(\"\\nPLOTS FOR DRIVING CHANNEL {:} \\n\" .format(channels[i]))\n",
    "        if F_overlapping_plots == 0:\n",
    "            axs[0].plot(range(i*len(measured_current[i][i]),(i+1)*len(measured_current[i][i])), measured_current[i][i])\n",
    "            axs[1].plot(range(i*len(measured_current[i][i]),(i+1)*len(measured_current[i][i])), PD_voltage[i])\n",
    "        else:\n",
    "            axs[0].plot(measured_voltage[i][i], measured_current[i][i])\n",
    "            axs[1].plot(range(len(measured_current[i][i])), PD_voltage[i])\n",
    "        #plt.xticks(np.arange(min(measured_current[i][i]), max(measured_current[i][i])))\n",
    "        #plt.xticks(np.arange(min(PD_current[i]), max(PD_current[i])+1))\n",
    "\n",
    "    plt.tight_layout()\n",
    "    plt.savefig('../Figures/' + filename + '.png')"
   ]
  },
  {
   "cell_type": "code",
   "execution_count": 7,
   "metadata": {},
   "outputs": [
    {
     "name": "stdout",
     "output_type": "stream",
     "text": [
      "desktop.ini\n",
      "Multiple_channels_control_20_01_2021_16_57_29.txt\n",
      "Old\n"
     ]
    }
   ],
   "source": [
    "for j in os.listdir(): \n",
    "    print(j)"
   ]
  },
  {
   "cell_type": "code",
   "execution_count": null,
   "metadata": {},
   "outputs": [],
   "source": []
  }
 ],
 "metadata": {
  "kernelspec": {
   "display_name": "Python 3 (ipykernel)",
   "language": "python",
   "name": "python3"
  },
  "language_info": {
   "codemirror_mode": {
    "name": "ipython",
    "version": 3
   },
   "file_extension": ".py",
   "mimetype": "text/x-python",
   "name": "python",
   "nbconvert_exporter": "python",
   "pygments_lexer": "ipython3",
   "version": "3.9.5"
  }
 },
 "nbformat": 4,
 "nbformat_minor": 4
}
