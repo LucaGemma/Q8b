{
 "cells": [
  {
   "cell_type": "code",
   "execution_count": null,
   "id": "2f5b26a7",
   "metadata": {},
   "outputs": [],
   "source": [
    "for i in range(max_tries): # ricerca fino a max_tries e proponi il miglior risultato\n",
    "    \n",
    "    for x in range(n_dof): # esamina tutti i dof (canali/termoresistenze) \n",
    "        #sweep di tensione da 0 a max_voltage su canale x\n",
    "            if valore_output_pico > max_attuale: # se trovi un nuovo massimo, salvalo al posto del massimo finora trovato\n",
    "                voltage_max = voltage_valore_output_pico # ToDo: struttura (dizionario o lista) in cui voltage_max e max sono associati per lo stesso elemento\n",
    "                max = valore_output_pico\n",
    "        max[x] = max_attuale # salva l'output del massimo per il canale attuale\n",
    "        voltage[x] = max[x] # setta il canale attuale alla tensione corrispondente al suo massimo"
   ]
  }
 ],
 "metadata": {
  "kernelspec": {
   "display_name": "Python 3",
   "language": "python",
   "name": "python3"
  },
  "language_info": {
   "codemirror_mode": {
    "name": "ipython",
    "version": 3
   },
   "file_extension": ".py",
   "mimetype": "text/x-python",
   "name": "python",
   "nbconvert_exporter": "python",
   "pygments_lexer": "ipython3",
   "version": "3.8.8"
  }
 },
 "nbformat": 4,
 "nbformat_minor": 5
}
