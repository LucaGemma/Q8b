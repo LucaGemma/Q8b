{
 "cells": [
  {
   "cell_type": "markdown",
   "id": "hundred-edition",
   "metadata": {},
   "source": [
    "# Interactive Widget in Jupyter Notebook by using ipywidgets\n",
    "This guide is based on https://coderzcolumn.com/tutorials/python/interactive-widgets-in-jupyter-notebook-using-ipywidgets"
   ]
  },
  {
   "cell_type": "code",
   "execution_count": 1,
   "id": "answering-israel",
   "metadata": {},
   "outputs": [],
   "source": [
    "from ipywidgets import interact, interactive, fixed, interact_manual, widgets\n",
    "%matplotlib widget"
   ]
  },
  {
   "cell_type": "code",
   "execution_count": 2,
   "id": "broadband-closer",
   "metadata": {},
   "outputs": [
    {
     "data": {
      "application/vnd.jupyter.widget-view+json": {
       "model_id": "f8d04270998d46d092d4d883a94bfa1b",
       "version_major": 2,
       "version_minor": 0
      },
      "text/plain": [
       "interactive(children=(IntSlider(value=10, description='x', max=30, min=-10), Output()), _dom_classes=('widget-…"
      ]
     },
     "metadata": {},
     "output_type": "display_data"
    }
   ],
   "source": [
    "def func1(x):\n",
    "    return 5*x\n",
    "\n",
    "interact(func1, x=10);"
   ]
  },
  {
   "cell_type": "code",
   "execution_count": 3,
   "id": "threaded-consensus",
   "metadata": {},
   "outputs": [
    {
     "data": {
      "application/vnd.jupyter.widget-view+json": {
       "model_id": "2c108a4757b64745a271eea70e46e67b",
       "version_major": 2,
       "version_minor": 0
      },
      "text/plain": [
       "interactive(children=(FloatSlider(value=2.2, description='x', max=6.6000000000000005, min=-2.2), Output()), _d…"
      ]
     },
     "metadata": {},
     "output_type": "display_data"
    }
   ],
   "source": [
    "# modify the slider value by typing :\n",
    "interact(func1, x=2.2);"
   ]
  },
  {
   "cell_type": "code",
   "execution_count": 15,
   "id": "differential-chicago",
   "metadata": {},
   "outputs": [
    {
     "data": {
      "application/vnd.jupyter.widget-view+json": {
       "model_id": "7b776e4738bd42a9b94e33efac874450",
       "version_major": 2,
       "version_minor": 0
      },
      "text/plain": [
       "interactive(children=(Checkbox(value=True, description='x'), Output()), _dom_classes=('widget-interact',))"
      ]
     },
     "metadata": {},
     "output_type": "display_data"
    },
    {
     "data": {
      "application/vnd.jupyter.widget-view+json": {
       "model_id": "8088accf969b47749f344ee16e5b405a",
       "version_major": 2,
       "version_minor": 0
      },
      "text/plain": [
       "Button(description='Click Me!', style=ButtonStyle())"
      ]
     },
     "metadata": {},
     "output_type": "display_data"
    },
    {
     "data": {
      "application/vnd.jupyter.widget-view+json": {
       "model_id": "b49fc95850ea48d7b8504997a854cb24",
       "version_major": 2,
       "version_minor": 0
      },
      "text/plain": [
       "Output()"
      ]
     },
     "metadata": {},
     "output_type": "display_data"
    }
   ],
   "source": [
    "# macke a checkbox by using\n",
    "interact(func1, x=True);\n",
    "# make a button by using\n",
    "widgets.Button(description=\"Check\")\n",
    "# trigger an event by using\n",
    "button = widgets.Button(description=\"Click Me!\")\n",
    "output = widgets.Output()\n",
    "\n",
    "display(button, output)\n",
    "\n",
    "@output.capture()\n",
    "def on_button_clicked(b):\n",
    "    print(type(b))\n",
    "    print(\"Button clicked.\")\n",
    "    b.icon=\"warning\"\n",
    "\n",
    "button.on_click(on_button_clicked)"
   ]
  },
  {
   "cell_type": "code",
   "execution_count": 5,
   "id": "theoretical-noise",
   "metadata": {},
   "outputs": [
    {
     "data": {
      "application/vnd.jupyter.widget-view+json": {
       "model_id": "51af9469215f4297962b36bf8f3055b8",
       "version_major": 2,
       "version_minor": 0
      },
      "text/plain": [
       "interactive(children=(Text(value='Hello !!', description='x'), Output()), _dom_classes=('widget-interact',))"
      ]
     },
     "metadata": {},
     "output_type": "display_data"
    }
   ],
   "source": [
    "# make a text by using\n",
    "interact(func1, x=\"Hello !!\");"
   ]
  },
  {
   "cell_type": "code",
   "execution_count": 6,
   "id": "approved-appendix",
   "metadata": {},
   "outputs": [
    {
     "data": {
      "application/vnd.jupyter.widget-view+json": {
       "model_id": "ace6a860a1e54f7aa39a4c6615053c51",
       "version_major": 2,
       "version_minor": 0
      },
      "text/plain": [
       "interactive(children=(FloatSlider(value=3.0, description='x', max=5.0, min=1.0, step=0.5), Output()), _dom_cla…"
      ]
     },
     "metadata": {},
     "output_type": "display_data"
    }
   ],
   "source": [
    "# to specify the interval of the slider:\n",
    "interact(func1, x=(1,5, 0.5));"
   ]
  },
  {
   "cell_type": "code",
   "execution_count": 7,
   "id": "atomic-diagram",
   "metadata": {},
   "outputs": [
    {
     "data": {
      "application/vnd.jupyter.widget-view+json": {
       "model_id": "b5d2ed0256dd4d00b45423c0fd365d6c",
       "version_major": 2,
       "version_minor": 0
      },
      "text/plain": [
       "interactive(children=(Dropdown(description='x', options=(('first', 100), ('second', 200)), value=100), Output(…"
      ]
     },
     "metadata": {},
     "output_type": "display_data"
    }
   ],
   "source": [
    "# sliders with custom selection:\n",
    "interact(func1, x=[('first', 100), ('second', 200)]);"
   ]
  },
  {
   "cell_type": "code",
   "execution_count": 8,
   "id": "decent-emerald",
   "metadata": {},
   "outputs": [
    {
     "data": {
      "application/vnd.jupyter.widget-view+json": {
       "model_id": "aeee705a669648e1a0ddab295acb5d68",
       "version_major": 2,
       "version_minor": 0
      },
      "text/plain": [
       "FloatSlider(value=10.0, description='Float Slider', max=50.0, min=10.0, step=2.5)"
      ]
     },
     "metadata": {},
     "output_type": "display_data"
    }
   ],
   "source": [
    "# creating widget objects:\n",
    "float_slider = widgets.FloatSlider(min=10.0, max=50.0, step=2.5, description=\"Float Slider\")\n",
    "float_slider"
   ]
  },
  {
   "cell_type": "code",
   "execution_count": 9,
   "id": "suspended-progressive",
   "metadata": {},
   "outputs": [
    {
     "name": "stdout",
     "output_type": "stream",
     "text": [
      "10.0\n",
      "['_dom_classes', '_model_module', '_model_module_version', '_model_name', '_view_count', '_view_module', '_view_module_version', '_view_name', 'continuous_update', 'description', 'description_tooltip', 'disabled', 'layout', 'max', 'min', 'orientation', 'readout', 'readout_format', 'step', 'style', 'value']\n"
     ]
    }
   ],
   "source": [
    "# access slider attributes and modify them:\n",
    "print(float_slider.value)\n",
    "print(float_slider.keys)"
   ]
  },
  {
   "cell_type": "code",
   "execution_count": 10,
   "id": "increasing-quest",
   "metadata": {},
   "outputs": [
    {
     "data": {
      "application/vnd.jupyter.widget-view+json": {
       "model_id": "5f8b8f001b214a2e82f8742d8cb8dcc1",
       "version_major": 2,
       "version_minor": 0
      },
      "text/plain": [
       "interactive(children=(FloatSlider(value=25.0, description='Float Slider', max=50.0, min=10.0, step=2.5), Outpu…"
      ]
     },
     "metadata": {},
     "output_type": "display_data"
    }
   ],
   "source": [
    "# passing a widget object to an interact makes it using such object instead of creating a new one:\n",
    "interact(func1, x= widgets.FloatSlider(min=10.0, max=50.0, value=25.0, step=2.5, description=\"Float Slider\"));"
   ]
  },
  {
   "cell_type": "code",
   "execution_count": 27,
   "id": "postal-reserve",
   "metadata": {},
   "outputs": [],
   "source": [
    "# you can use interactive() instead of interact() to create an UI without necessarily visualizing it\n",
    "from IPython.display import display\n",
    "\n",
    "def func3(a,b,c):\n",
    "    display((a+b)^c)\n",
    "\n",
    "s1 = widgets.IntSlider(min=10, max=50, value=25, step=2)\n",
    "s2 = widgets.IntSlider(min=10, max=50, value=25, step=2)\n",
    "s3= widgets.IntSlider(min=10, max=50, value=25, step=2)\n",
    "\n",
    "w = widgets.interactive_output(func3,  {'a' : s1,\n",
    "                        'b' : s2,\n",
    "                        'c' : s3}\n",
    "                       )\n"
   ]
  },
  {
   "cell_type": "code",
   "execution_count": 28,
   "id": "hidden-partnership",
   "metadata": {},
   "outputs": [
    {
     "data": {
      "application/vnd.jupyter.widget-view+json": {
       "model_id": "e0d4702f28af43d8a5c1943783f2f0e4",
       "version_major": 2,
       "version_minor": 0
      },
      "text/plain": [
       "Output(outputs=({'output_type': 'display_data', 'data': {'text/plain': '43'}, 'metadata': {}},))"
      ]
     },
     "metadata": {},
     "output_type": "display_data"
    },
    {
     "data": {
      "application/vnd.jupyter.widget-view+json": {
       "model_id": "ace05b34f5464c5998a645fecf141b28",
       "version_major": 2,
       "version_minor": 0
      },
      "text/plain": [
       "HBox(children=(IntSlider(value=25, max=50, min=10, step=2), IntSlider(value=25, max=50, min=10, step=2), IntSl…"
      ]
     },
     "metadata": {},
     "output_type": "display_data"
    }
   ],
   "source": [
    "# organize layout with\n",
    "ui = widgets.HBox([s1, s2, s3])\n",
    "# then you can use display() to visualize it\n",
    "display(w,ui)"
   ]
  },
  {
   "cell_type": "code",
   "execution_count": 29,
   "id": "criminal-andrew",
   "metadata": {},
   "outputs": [
    {
     "data": {
      "application/vnd.jupyter.widget-view+json": {
       "model_id": "291d088d408b417db9712d6e82ef7609",
       "version_major": 2,
       "version_minor": 0
      },
      "text/plain": [
       "Canvas(toolbar=Toolbar(toolitems=[('Home', 'Reset original view', 'home', 'home'), ('Back', 'Back to previous …"
      ]
     },
     "metadata": {},
     "output_type": "display_data"
    },
    {
     "data": {
      "application/vnd.jupyter.widget-view+json": {
       "model_id": "750709ceb0174160b04b109d37f43bc9",
       "version_major": 2,
       "version_minor": 0
      },
      "text/plain": [
       "interactive(children=(FloatSlider(value=0.0, description='m', max=10.0, min=-10.0, step=0.5), FloatSlider(valu…"
      ]
     },
     "metadata": {},
     "output_type": "display_data"
    }
   ],
   "source": [
    "# interacting with matplotlib plots:\n",
    "import matplotlib.pyplot as plt\n",
    "import numpy as np\n",
    "\n",
    "x = np.random.rand(10)\n",
    "fig, ax = plt.subplots()\n",
    "line, = ax.plot(x, np.sin(x))\n",
    "\n",
    "def plot(m,c):\n",
    "    x = np.random.rand(10)\n",
    "    line.set_xdata(x)\n",
    "    y = m *x + c\n",
    "    line.set_ydata(y)\n",
    "    fig.canvas.draw()\n",
    "z = interactive(plot, m=(-10,10, 0.5), c=(-5,5,0.5))\n",
    "display(z)"
   ]
  },
  {
   "cell_type": "code",
   "execution_count": 30,
   "id": "rural-brief",
   "metadata": {},
   "outputs": [
    {
     "data": {
      "application/vnd.jupyter.widget-view+json": {
       "model_id": "a0d136b59d944e94babde861b0d247e9",
       "version_major": 2,
       "version_minor": 0
      },
      "text/plain": [
       "Canvas(toolbar=Toolbar(toolitems=[('Home', 'Reset original view', 'home', 'home'), ('Back', 'Back to previous …"
      ]
     },
     "metadata": {},
     "output_type": "display_data"
    },
    {
     "data": {
      "application/vnd.jupyter.widget-view+json": {
       "model_id": "92db846915e74ffbaf0e4764f3a6561d",
       "version_major": 2,
       "version_minor": 0
      },
      "text/plain": [
       "IntSlider(value=1, description='$\\\\omega$', max=10)"
      ]
     },
     "metadata": {},
     "output_type": "display_data"
    }
   ],
   "source": [
    "%matplotlib widget\n",
    "import ipywidgets as widgets\n",
    "import matplotlib.pyplot as plt\n",
    "import numpy as np\n",
    "x = np.linspace(0, 2 * np.pi, 100)\n",
    " \n",
    "fig, ax = plt.subplots()\n",
    "line, = ax.plot(x, np.sin(x))\n",
    "ax.grid(True)\n",
    " \n",
    "def update(change):\n",
    "    line.set_ydata(np.sin(change.new * x))\n",
    "    fig.canvas.draw()\n",
    "     \n",
    "int_slider = widgets.IntSlider(\n",
    "    value=1, \n",
    "    min=0, max=10, step=1,\n",
    "    description='$\\omega$',\n",
    "    continuous_update=True\n",
    ")\n",
    "int_slider.observe(update, 'value')\n",
    "int_slider"
   ]
  },
  {
   "cell_type": "code",
   "execution_count": null,
   "id": "metropolitan-concert",
   "metadata": {},
   "outputs": [],
   "source": []
  }
 ],
 "metadata": {
  "kernelspec": {
   "display_name": "Python 3",
   "language": "python",
   "name": "python3"
  },
  "language_info": {
   "codemirror_mode": {
    "name": "ipython",
    "version": 3
   },
   "file_extension": ".py",
   "mimetype": "text/x-python",
   "name": "python",
   "nbconvert_exporter": "python",
   "pygments_lexer": "ipython3",
   "version": "3.8.8"
  }
 },
 "nbformat": 4,
 "nbformat_minor": 5
}
