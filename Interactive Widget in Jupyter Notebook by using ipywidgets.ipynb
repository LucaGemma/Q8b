{
 "cells": [
  {
   "cell_type": "markdown",
   "id": "d0e4880b",
   "metadata": {},
   "source": [
    "# Interactive Widget in Jupyter Notebook by using ipywidgets\n",
    "This guide is based on https://coderzcolumn.com/tutorials/python/interactive-widgets-in-jupyter-notebook-using-ipywidgets"
   ]
  },
  {
   "cell_type": "code",
   "execution_count": 1,
   "id": "81246483",
   "metadata": {},
   "outputs": [],
   "source": [
    "from ipywidgets import interact, interactive, fixed, interact_manual, widgets\n",
    "%matplotlib widget"
   ]
  },
  {
   "cell_type": "code",
   "execution_count": 2,
   "id": "9774dcc8",
   "metadata": {},
   "outputs": [
    {
     "data": {
      "application/vnd.jupyter.widget-view+json": {
       "model_id": "74edca4e1fa0483788fac42c820d2d76",
       "version_major": 2,
       "version_minor": 0
      },
      "text/plain": [
       "interactive(children=(IntSlider(value=10, description='x', max=30, min=-10), Output()), _dom_classes=('widget-…"
      ]
     },
     "metadata": {},
     "output_type": "display_data"
    }
   ],
   "source": [
    "def func1(x):\n",
    "    return 5*x\n",
    "\n",
    "interact(func1, x=10);"
   ]
  },
  {
   "cell_type": "code",
   "execution_count": 3,
   "id": "0dae9bdd",
   "metadata": {},
   "outputs": [
    {
     "data": {
      "application/vnd.jupyter.widget-view+json": {
       "model_id": "95caa3e9fbba40c19f76f67e5db5df82",
       "version_major": 2,
       "version_minor": 0
      },
      "text/plain": [
       "interactive(children=(FloatSlider(value=2.2, description='x', max=6.6000000000000005, min=-2.2), Output()), _d…"
      ]
     },
     "metadata": {},
     "output_type": "display_data"
    }
   ],
   "source": [
    "# modify the slider value by typing :\n",
    "interact(func1, x=2.2);"
   ]
  },
  {
   "cell_type": "code",
   "execution_count": 8,
   "id": "c3993d22",
   "metadata": {
    "scrolled": true
   },
   "outputs": [
    {
     "data": {
      "application/vnd.jupyter.widget-view+json": {
       "model_id": "511180067b8f47ea8e3dd842a4d3e486",
       "version_major": 2,
       "version_minor": 0
      },
      "text/plain": [
       "interactive(children=(Checkbox(value=True, description='x'), Output()), _dom_classes=('widget-interact',))"
      ]
     },
     "metadata": {},
     "output_type": "display_data"
    },
    {
     "data": {
      "application/vnd.jupyter.widget-view+json": {
       "model_id": "220f5746c7f248f8aee6f3031a91e6a1",
       "version_major": 2,
       "version_minor": 0
      },
      "text/plain": [
       "Button(description='Click Me!', style=ButtonStyle())"
      ]
     },
     "metadata": {},
     "output_type": "display_data"
    }
   ],
   "source": [
    "# macke a checkbox by using\n",
    "interact(func1, x=True);\n",
    "# make a button by using\n",
    "#widgets.Button(description=\"Check\")\n",
    "# trigger an event by using\n",
    "button = widgets.Button(description=\"Click Me!\")\n",
    "#output = widgets.Output()\n",
    "\n",
    "display(button)\n",
    "\n",
    "@output.capture()\n",
    "def on_button_clicked(b):\n",
    "    #print(type(b))\n",
    "    print(\"Button clicked.\")\n",
    "    b.icon=\"warning\"\n",
    "\n",
    "button.on_click(on_button_clicked)"
   ]
  },
  {
   "cell_type": "code",
   "execution_count": 5,
   "id": "edd45393",
   "metadata": {},
   "outputs": [
    {
     "data": {
      "application/vnd.jupyter.widget-view+json": {
       "model_id": "a354dc60bc2d4bddbd832ec3fc3cf815",
       "version_major": 2,
       "version_minor": 0
      },
      "text/plain": [
       "interactive(children=(Text(value='Hello !!', description='x'), Output()), _dom_classes=('widget-interact',))"
      ]
     },
     "metadata": {},
     "output_type": "display_data"
    }
   ],
   "source": [
    "# make a text by using\n",
    "interact(func1, x=\"Hello !!\");"
   ]
  },
  {
   "cell_type": "code",
   "execution_count": 6,
   "id": "4b2537ea",
   "metadata": {},
   "outputs": [
    {
     "data": {
      "application/vnd.jupyter.widget-view+json": {
       "model_id": "8cfa18480747420aafb0f7079da6b5d1",
       "version_major": 2,
       "version_minor": 0
      },
      "text/plain": [
       "interactive(children=(FloatSlider(value=3.0, description='x', max=5.0, min=1.0, step=0.5), Output()), _dom_cla…"
      ]
     },
     "metadata": {},
     "output_type": "display_data"
    }
   ],
   "source": [
    "# to specify the interval of the slider:\n",
    "interact(func1, x=(1,5, 0.5));"
   ]
  },
  {
   "cell_type": "code",
   "execution_count": 7,
   "id": "b8546838",
   "metadata": {},
   "outputs": [
    {
     "data": {
      "application/vnd.jupyter.widget-view+json": {
       "model_id": "1ff84cd59aa142ef99aa54af0f35230a",
       "version_major": 2,
       "version_minor": 0
      },
      "text/plain": [
       "interactive(children=(Dropdown(description='x', options=(('first', 100), ('second', 200)), value=100), Output(…"
      ]
     },
     "metadata": {},
     "output_type": "display_data"
    }
   ],
   "source": [
    "# sliders with custom selection:\n",
    "interact(func1, x=[('first', 100), ('second', 200)]);"
   ]
  },
  {
   "cell_type": "code",
   "execution_count": 8,
   "id": "e54a4543",
   "metadata": {},
   "outputs": [
    {
     "data": {
      "application/vnd.jupyter.widget-view+json": {
       "model_id": "9d47172602c248a8a80f419cfafba52d",
       "version_major": 2,
       "version_minor": 0
      },
      "text/plain": [
       "FloatSlider(value=10.0, description='Float Slider', max=50.0, min=10.0, step=2.5)"
      ]
     },
     "metadata": {},
     "output_type": "display_data"
    }
   ],
   "source": [
    "# creating widget objects:\n",
    "float_slider = widgets.FloatSlider(min=10.0, max=50.0, step=2.5, description=\"Float Slider\")\n",
    "float_slider"
   ]
  },
  {
   "cell_type": "code",
   "execution_count": 9,
   "id": "ec267ab8",
   "metadata": {},
   "outputs": [
    {
     "name": "stdout",
     "output_type": "stream",
     "text": [
      "10.0\n",
      "['_dom_classes', '_model_module', '_model_module_version', '_model_name', '_view_count', '_view_module', '_view_module_version', '_view_name', 'continuous_update', 'description', 'description_tooltip', 'disabled', 'layout', 'max', 'min', 'orientation', 'readout', 'readout_format', 'step', 'style', 'value']\n"
     ]
    }
   ],
   "source": [
    "# access slider attributes and modify them:\n",
    "print(float_slider.value)\n",
    "print(float_slider.keys)"
   ]
  },
  {
   "cell_type": "code",
   "execution_count": 10,
   "id": "c074eb67",
   "metadata": {},
   "outputs": [
    {
     "data": {
      "application/vnd.jupyter.widget-view+json": {
       "model_id": "2f536952ceea49d4bdc2d18bdd2882f6",
       "version_major": 2,
       "version_minor": 0
      },
      "text/plain": [
       "interactive(children=(FloatSlider(value=25.0, description='Float Slider', max=50.0, min=10.0, step=2.5), Outpu…"
      ]
     },
     "metadata": {},
     "output_type": "display_data"
    }
   ],
   "source": [
    "# passing a widget object to an interact makes it using such object instead of creating a new one:\n",
    "interact(func1, x= widgets.FloatSlider(min=10.0, max=50.0, value=25.0, step=2.5, description=\"Float Slider\"));"
   ]
  },
  {
   "cell_type": "code",
   "execution_count": 11,
   "id": "4ad53897",
   "metadata": {},
   "outputs": [],
   "source": [
    "# you can use interactive() instead of interact() to create an UI without necessarily visualizing it\n",
    "from IPython.display import display\n",
    "\n",
    "def func3(a,b,c):\n",
    "    display((a+b)^c)\n",
    "\n",
    "s1 = widgets.IntSlider(min=10, max=50, value=25, step=2)\n",
    "s2 = widgets.IntSlider(min=10, max=50, value=25, step=2)\n",
    "s3= widgets.IntSlider(min=10, max=50, value=25, step=2)\n",
    "\n",
    "w = widgets.interactive_output(func3,  {'a' : s1,\n",
    "                        'b' : s2,\n",
    "                        'c' : s3}\n",
    "                       )\n"
   ]
  },
  {
   "cell_type": "code",
   "execution_count": 12,
   "id": "5edd70c2",
   "metadata": {},
   "outputs": [
    {
     "data": {
      "application/vnd.jupyter.widget-view+json": {
       "model_id": "57feca11c78a46598d07df44e7e310e9",
       "version_major": 2,
       "version_minor": 0
      },
      "text/plain": [
       "Output()"
      ]
     },
     "metadata": {},
     "output_type": "display_data"
    },
    {
     "data": {
      "application/vnd.jupyter.widget-view+json": {
       "model_id": "632ebba3aa8843f1990c3add7e7b63e4",
       "version_major": 2,
       "version_minor": 0
      },
      "text/plain": [
       "HBox(children=(IntSlider(value=25, max=50, min=10, step=2), IntSlider(value=25, max=50, min=10, step=2), IntSl…"
      ]
     },
     "metadata": {},
     "output_type": "display_data"
    }
   ],
   "source": [
    "# organize layout with\n",
    "ui = widgets.HBox([s1, s2, s3])\n",
    "# then you can use display() to visualize it\n",
    "display(w,ui)"
   ]
  },
  {
   "cell_type": "code",
   "execution_count": 13,
   "id": "53b84859",
   "metadata": {},
   "outputs": [
    {
     "data": {
      "application/vnd.jupyter.widget-view+json": {
       "model_id": "",
       "version_major": 2,
       "version_minor": 0
      },
      "text/plain": [
       "FigureCanvasNbAgg()"
      ]
     },
     "metadata": {},
     "output_type": "display_data"
    },
    {
     "data": {
      "application/vnd.jupyter.widget-view+json": {
       "model_id": "953a3bf6376940dca68f132594751e3b",
       "version_major": 2,
       "version_minor": 0
      },
      "text/plain": [
       "interactive(children=(FloatSlider(value=0.0, description='m', max=10.0, min=-10.0, step=0.5), FloatSlider(valu…"
      ]
     },
     "metadata": {},
     "output_type": "display_data"
    }
   ],
   "source": [
    "# interacting with matplotlib plots:\n",
    "import matplotlib.pyplot as plt\n",
    "import numpy as np\n",
    "\n",
    "x = np.random.rand(10)\n",
    "fig, ax = plt.subplots()\n",
    "line, = ax.plot(x, np.sin(x))\n",
    "\n",
    "def plot(m,c):\n",
    "    x = np.random.rand(10)\n",
    "    line.set_xdata(x)\n",
    "    y = m *x + c\n",
    "    line.set_ydata(y)\n",
    "    fig.canvas.draw()\n",
    "z = interactive(plot, m=(-10,10, 0.5), c=(-5,5,0.5))\n",
    "display(z)"
   ]
  },
  {
   "cell_type": "code",
   "execution_count": 14,
   "id": "66bc36cc",
   "metadata": {},
   "outputs": [
    {
     "data": {
      "application/vnd.jupyter.widget-view+json": {
       "model_id": "89b7f6000819492eaf77bf26afc74bae",
       "version_major": 2,
       "version_minor": 0
      },
      "text/plain": [
       "FigureCanvasNbAgg()"
      ]
     },
     "metadata": {},
     "output_type": "display_data"
    },
    {
     "data": {
      "application/vnd.jupyter.widget-view+json": {
       "model_id": "ded928c590ec48fda84673982d1dd12d",
       "version_major": 2,
       "version_minor": 0
      },
      "text/plain": [
       "IntSlider(value=1, description='$\\\\omega$', max=10)"
      ]
     },
     "metadata": {},
     "output_type": "display_data"
    }
   ],
   "source": [
    "%matplotlib widget\n",
    "import ipywidgets as widgets\n",
    "import matplotlib.pyplot as plt\n",
    "import numpy as np\n",
    "x = np.linspace(0, 2 * np.pi, 100)\n",
    " \n",
    "fig, ax = plt.subplots()\n",
    "line, = ax.plot(x, np.sin(x))\n",
    "ax.grid(True)\n",
    " \n",
    "def update(change):\n",
    "    line.set_ydata(np.sin(change.new * x))\n",
    "    fig.canvas.draw()\n",
    "     \n",
    "int_slider = widgets.IntSlider(\n",
    "    value=1, \n",
    "    min=0, max=10, step=1,\n",
    "    description='$\\omega$',\n",
    "    continuous_update=True\n",
    ")\n",
    "int_slider.observe(update, 'value')\n",
    "int_slider"
   ]
  },
  {
   "cell_type": "code",
   "execution_count": null,
   "id": "05261606",
   "metadata": {},
   "outputs": [],
   "source": []
  }
 ],
 "metadata": {
  "kernelspec": {
   "display_name": "Python 3 (ipykernel)",
   "language": "python",
   "name": "python3"
  },
  "language_info": {
   "codemirror_mode": {
    "name": "ipython",
    "version": 3
   },
   "file_extension": ".py",
   "mimetype": "text/x-python",
   "name": "python",
   "nbconvert_exporter": "python",
   "pygments_lexer": "ipython3",
   "version": "3.7.3"
  }
 },
 "nbformat": 4,
 "nbformat_minor": 5
}
