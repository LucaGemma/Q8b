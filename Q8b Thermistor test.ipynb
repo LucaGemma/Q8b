{
 "cells": [
  {
   "cell_type": "code",
   "execution_count": 3,
   "metadata": {
    "scrolled": true
   },
   "outputs": [
    {
     "name": "stdout",
     "output_type": "stream",
     "text": [
      "Qontroller 'Q8b-0471' initialised with firmware v2.4.1 and 32 channels\n"
     ]
    }
   ],
   "source": [
    "import sys\n",
    "username = 'admin' # 'admin' for BO1 lab\n",
    "sys.path.append('c:/users/'+ username +'/miniconda3/lib/site-packages')\n",
    "import qontrol\n",
    "import os\n",
    "\n",
    "\n",
    "# Setup Qontroller\n",
    "serial_port_name = \"COM3\" #\"COM3\" #\"/dev/tty.usbserial-FT06QAZ5\" # name of the USB Serial Port\n",
    "q = qontrol.QXOutput(serial_port_name = serial_port_name, response_timeout = 0.1)\n",
    "\n",
    "print (\"Qontroller '{:}' initialised with firmware {:} and {:} channels\".format(q.device_id, q.firmware, q.n_chs) )\n",
    "\n",
    "# Set voltage on each channel to its index in volts, read voltage, current\n",
    "\n",
    "K = 1 # the channel connected to the device\n",
    "V = 3.0 # the Voltage to be applied to channel K\n",
    "I = 0\n",
    "voltage_list = [] # list for subsequent voltage measurements (to be averaged)\n",
    "current_list = [] # list for subsequent current measurements (to be averaged)\n",
    "measured_voltage = 0\n",
    "measured_current = 0\n",
    "averaged_voltage = 0\n",
    "averaged_current = 0\n",
    "max_current = 15 # current compliance\n",
    "max_voltage = 3 # voltage compliance\n",
    "samples = 100 # number of measurements to be averaged\n",
    "\n",
    "\n",
    "\n",
    "#Set current for channel K\n",
    "#q.i[K] = I\n",
    "\n",
    "# Set the compliances\n",
    "for channel in range(q.n_chs):\n",
    "    q.imax[channel] = max_current\n",
    "    q.vmax[channel] = max_voltage\n",
    "    \n",
    "#Set voltage for channel K\n",
    "q.v[K] = V\n",
    "\n"
   ]
  },
  {
   "cell_type": "code",
   "execution_count": 4,
   "metadata": {},
   "outputs": [
    {
     "name": "stdout",
     "output_type": "stream",
     "text": [
      "Channel 1 set to 3.0 V, measured 2.999799999999995 V and -0.08781199999999992 mA\n",
      "\n",
      "The derived resistance is: -34161.61800209536 Ohm\n",
      "\n",
      "Voltage list: \n",
      " [2.9998, 2.9998, 2.9998, 2.9998, 2.9998, 2.9998, 2.9998, 2.9998, 2.9998, 2.9998, 2.9998, 2.9998, 2.9998, 2.9998, 2.9998, 2.9998, 2.9998, 2.9998, 2.9998, 2.9998, 2.9998, 2.9998, 2.9998, 2.9998, 2.9998, 2.9998, 2.9998, 2.9998, 2.9998, 2.9998, 2.9998, 2.9998, 2.9998, 2.9998, 2.9998, 2.9998, 2.9998, 2.9998, 2.9998, 2.9998, 2.9998, 2.9998, 2.9998, 2.9998, 2.9998, 2.9998, 2.9998, 2.9998, 2.9998, 2.9998, 2.9998, 2.9998, 2.9998, 2.9998, 2.9998, 2.9998, 2.9998, 2.9998, 2.9998, 2.9998, 2.9998, 2.9998, 2.9998, 2.9998, 2.9998, 2.9998, 2.9998, 2.9998, 2.9998, 2.9998, 2.9998, 2.9998, 2.9998, 2.9998, 2.9998, 2.9998, 2.9998, 2.9998, 2.9998, 2.9998, 2.9998, 2.9998, 2.9998, 2.9998, 2.9998, 2.9998, 2.9998, 2.9998, 2.9998, 2.9998, 2.9998, 2.9998, 2.9998, 2.9998, 2.9998, 2.9998, 2.9998, 2.9998, 2.9998, 2.9998]\n",
      "Current list: \n",
      " [-0.0406, -0.122, -0.0813, -0.0813, -0.0813, -0.122, -0.122, -0.0813, -0.0813, -0.122, -0.0406, -0.0406, -0.122, -0.122, -0.122, -0.0813, -0.0813, -0.0813, -0.122, -0.0813, -0.0813, -0.122, -0.0813, -0.0813, -0.122, -0.0813, -0.0813, -0.122, -0.122, -0.122, -0.0813, -0.0813, -0.0813, -0.0813, -0.0813, -0.0813, -0.122, -0.0813, -0.0813, -0.0813, -0.0813, -0.0813, -0.0406, -0.122, -0.122, -0.0813, -0.0813, -0.122, -0.122, -0.122, -0.0406, -0.0406, -0.122, -0.0813, -0.122, -0.0813, -0.0813, -0.0813, -0.0813, -0.0406, -0.0813, -0.122, -0.0813, -0.0813, -0.0406, -0.122, -0.122, -0.122, -0.0813, -0.0813, -0.0813, -0.0813, -0.0813, -0.0813, -0.0813, -0.0813, -0.0813, -0.0813, -0.0813, -0.0813, -0.122, -0.122, -0.0813, -0.122, -0.0406, -0.0813, -0.122, -0.0813, -0.0813, -0.122, -0.0406, -0.0406, -0.0406, -0.0406, -0.0406, -0.122, -0.0406, -0.122, -0.0406, -0.0813]\n",
      "Qontroller.issue_command: Warning: Failed to write with command 'I14=0'. Timed out\n",
      "Qontroller.issue_command: Warning: Failed to write with command 'I15=0'. Timed out\n",
      "Qontroller.issue_command: Warning: Failed to write with command 'I22=0'. Timed out\n",
      "Qontroller.issue_command: Warning: Failed to write with command 'I23=0'. Timed out\n",
      "Qontroller.issue_command: Warning: Failed to write with command 'I30=0'. Timed out\n",
      "Qontroller.issue_command: Warning: Failed to write with command 'I31=0'. Timed out\n"
     ]
    }
   ],
   "source": [
    "for i in range(samples):\n",
    "    \n",
    "    measured_voltage = q.v[K]\n",
    "    measured_current = q.i[K]\n",
    "    voltage_list.append(measured_voltage)\n",
    "    current_list.append(measured_current)\n",
    "    averaged_voltage += measured_voltage\n",
    "    averaged_current += measured_current\n",
    "\n",
    "averaged_voltage /= samples\n",
    "averaged_current /= samples\n",
    "derived_resistance = (averaged_voltage/averaged_current)*1000\n",
    "\n",
    "print(\"Channel {:} set to {:} V, measured {:} V and {:} mA\\n\".format(K, V, averaged_voltage, averaged_current))\n",
    "print(\"The derived resistance is: {:} Ohm\\n\".format(derived_resistance))\n",
    "print(\"Voltage list: \\n\", voltage_list)\n",
    "print(\"Current list: \\n\", current_list)\n",
    "\n",
    "# Open the log file\n",
    "meas_file = open(\"Resistance_measurements_Q8b_L3_-5_-3_a_MZI.txt\", \"a\")\n",
    "if os.stat(\"Resistance_measurements_Q8b_L3_-5_-3_a_MZI.txt\").st_size == 0:\n",
    "    meas_file.write( \"Channel,Voltage[V],Averaged_Voltage[V],Averaged_Current[mA],Derived_Resistance[Ohm]\\n\")\n",
    "\n",
    "meas_file.write(str(K) + \",\" + str(V) + \",\" + str(averaged_voltage) + \",\" + str(averaged_current) + \",\" + str(derived_resistance)+ \"\\n\")\n",
    "\n",
    "# Close the log file\n",
    "meas_file.close()\n",
    "\n",
    "# Set all channels to zero\n",
    "q.v[:] = 0\n",
    "q.i[:] = 0\n",
    "\n",
    "q.close()\n",
    "\n",
    "#help(qontrol.QXOutput)"
   ]
  },
  {
   "cell_type": "code",
   "execution_count": null,
   "metadata": {},
   "outputs": [],
   "source": []
  }
 ],
 "metadata": {
  "kernelspec": {
   "display_name": "Python 3",
   "language": "python",
   "name": "python3"
  },
  "language_info": {
   "codemirror_mode": {
    "name": "ipython",
    "version": 3
   },
   "file_extension": ".py",
   "mimetype": "text/x-python",
   "name": "python",
   "nbconvert_exporter": "python",
   "pygments_lexer": "ipython3",
   "version": "3.8.8"
  }
 },
 "nbformat": 4,
 "nbformat_minor": 2
}
