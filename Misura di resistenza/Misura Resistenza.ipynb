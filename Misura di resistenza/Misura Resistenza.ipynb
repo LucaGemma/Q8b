{
 "cells": [
  {
   "cell_type": "markdown",
   "metadata": {},
   "source": [
    "# Misura Resistenza\n",
    "\n",
    "Il programma controlla in tensione un canale specificato K con uno sweep da \"start'' a ''stop'' e step di 'step', legge le rispettive tensioni e correnti insieme a quelle del secondo canale K2, le salva su file e le visualizza a video con grafici. \n",
    "\n",
    "## 1) Import"
   ]
  },
  {
   "cell_type": "code",
   "execution_count": 1,
   "metadata": {
    "scrolled": true
   },
   "outputs": [],
   "source": [
    "# Required imports\n",
    "import sys\n",
    "username = 'admin' # 'admin' for BO1 lab\n",
    "sys.path.append('c:/users/'+ username +'/miniconda3/lib/site-packages')\n",
    "import matplotlib.pyplot as plt\n",
    "import qontrol\n",
    "import os\n",
    "import time\n",
    "import datetime\n",
    "import numpy as np\n",
    "import math\n",
    "import os.path"
   ]
  },
  {
   "cell_type": "markdown",
   "metadata": {},
   "source": [
    "## 2) Dichiarazione variabili e setup driver"
   ]
  },
  {
   "cell_type": "code",
   "execution_count": 2,
   "metadata": {},
   "outputs": [
    {
     "name": "stdout",
     "output_type": "stream",
     "text": [
      "Qontroller 'Q8b-036C' initialised with firmware v2.4.1 and 8 channels\n"
     ]
    }
   ],
   "source": [
    "# Parameters initialization\n",
    "K = 1 # the channel connected to the device [0,1,2 for left,centre and right thermistors]\n",
    "K2 = 3\n",
    "V = 3 # the Voltage to be applied to channel K\n",
    "I = 0\n",
    "start = 0\n",
    "stop = 4\n",
    "step = 0.25\n",
    "max_current = 5\n",
    "max_voltage = 7\n",
    "measured_voltage = 0\n",
    "measured_current = 0\n",
    "averaged_voltage = 0\n",
    "averaged_current = 0\n",
    "averaged_voltage_list = []\n",
    "averaged_current_list = []\n",
    "derived_resistance_list = []\n",
    "averaged_voltage_second_channel_list = []\n",
    "averaged_current_second_channel_list = []\n",
    "measured_voltage_second_channel = 0\n",
    "measured_current_second_channel = 0\n",
    "averaged_voltage_second_channel = 0\n",
    "averaged_current_second_channel = 0\n",
    "samples = 10 # number of measurements to be averaged\n",
    "laser_wavelength = 697\n",
    "laser_power = 5\n",
    "amplifier_gain = 40\n",
    "\n",
    "now = datetime.datetime.now()\n",
    "\n",
    "# Configuration (Laser and Amplifier)\n",
    "laser_wavelength = 697\n",
    "laser_power = 5\n",
    "amplifier_gain = 40\n",
    "\n",
    "save_path = \"G:/Shared drives/FMPS Archive/Projects/0_QPIXPAD/QPX4/Opt.Meas/20211013_Q3_+02_+08/Q8b/\"  #'G:/My Drive/QPX/QPX3/2020_Dati_Misure_BO1/Q8b/' # WHERE TO SAVE DATA\n",
    "file_name = 'Channel_' + str(K) + '_sweep_' + str(start) + '-' + str(stop) + '_step_' + str(step) + \".txt\"\n",
    "completeName = os.path.join(save_path, file_name)\n",
    "timestamp = '%'+now.strftime(\"%d/%m/%Y %H:%M:%S\")\n",
    "configurazione = '\\n%Laser Wavelength:' + str(laser_wavelength) + '[nm]\\n%Laser Power:' +str(laser_power) + '[mW]\\n%Amplifier Gain:' \\\n",
    "              + str(amplifier_gain) + '[dB]'\n",
    "annotazione = '\\n%Min Scattering Trans'\n",
    "descrizione_esperimento = '\\n%Swipe sulla tensione con onda sinusoidale su un canale, canali rimanenti a 0 V.Ciascun canale pilota una termoresistenza'\n",
    "header = timestamp+configurazione+annotazione+descrizione_esperimento\n",
    "\n",
    "# Open the log file\n",
    "meas_file = open(completeName, \"a\")\n",
    "meas_file.write(header)\n",
    "meas_file.write(\"%Averaged_Voltage[V]\\tAveraged_Current[mA]\\tAveraged_Current-PD[mA]\\n\")\n",
    "\n",
    "\n",
    "# Setup Qontroller\n",
    "serial_port_name = \"COM5\" #\"COM3\" #\"/dev/tty.usbserial-FT06QAZ5\" # name of the USB Serial Port #//./COM11\n",
    "q = qontrol.QXOutput(serial_port_name = serial_port_name, response_timeout = 0.1)\n",
    "\n",
    "for channel in range(q.n_chs):\n",
    "    #q.imax[channel] = max_current\n",
    "    q.vmax[channel] = max_voltage\n",
    "    \n",
    "\n",
    "# Video Debugging\n",
    "print (\"Qontroller '{:}' initialised with firmware {:} and {:} channels\".format(q.device_id, q.firmware, q.n_chs) )"
   ]
  },
  {
   "cell_type": "markdown",
   "metadata": {},
   "source": [
    "## 3) Acquisizione e visualizzazione dati"
   ]
  },
  {
   "cell_type": "code",
   "execution_count": 3,
   "metadata": {},
   "outputs": [
    {
     "name": "stdout",
     "output_type": "stream",
     "text": [
      "Percentuale di completamento: 0 %\n",
      "Percentuale di completamento: 6 %\n",
      "Percentuale di completamento: 12 %\n",
      "Percentuale di completamento: 18 %\n",
      "Percentuale di completamento: 25 %\n",
      "Percentuale di completamento: 31 %\n",
      "Percentuale di completamento: 37 %\n",
      "Percentuale di completamento: 43 %\n",
      "Percentuale di completamento: 50 %\n",
      "Percentuale di completamento: 56 %\n",
      "Percentuale di completamento: 62 %\n",
      "Percentuale di completamento: 68 %\n",
      "Percentuale di completamento: 75 %\n",
      "Percentuale di completamento: 81 %\n",
      "Percentuale di completamento: 87 %\n",
      "Percentuale di completamento: 93 %\n",
      "Channel 1 set to 3.75 V, measured 3.7497999999999996 V and 7.218380000000001 mA\n",
      "\n",
      "The derived resistance is: 519.4794399851489 Ohm\n",
      "\n",
      "Voltage list: \n",
      " [0.0, 0.24990000000000007, 0.49980000000000013, 0.7498000000000001, 0.9999, 1.2498000000000002, 1.4998000000000002, 1.7498999999999998, 1.9998999999999998, 2.2498, 2.4999, 2.7499, 2.9998, 3.2498999999999993, 3.4998999999999993, 3.7497999999999996]\n",
      "Current list: \n",
      " [0.036539999999999996, 0.5655300000000001, 1.0985999999999998, 1.61539, 2.15243, 2.63666, 3.14938, 3.6376800000000005, 4.142180000000001, 4.5979, 5.061779999999999, 5.53787, 5.96105, 6.40865, 6.80334, 7.218380000000001]\n",
      "Current second channel list: \n",
      " [0.04466999999999999, 0.049136999999999986, 0.045513699999999976, 0.04922136999999999, 0.03740213699999999, 0.04841021369999998, 0.05765102136999998, 0.04637510213699999, 0.04117751021369999, 0.036597751021369994, 0.04019977510213699, 0.04461997751021368, 0.041001997751021355, 0.04471019977510213, 0.0410110199775102, 0.044701101997751]\n",
      "Inizio dei plot\n",
      "Fine dei plot\n",
      "Programma terminato\n"
     ]
    },
    {
     "data": {
      "image/png": "[encoded data removed]",
      "text/plain": [
       "<Figure size 432x288 with 2 Axes>"
      ]
     },
     "metadata": {
      "needs_background": "light"
     },
     "output_type": "display_data"
    }
   ],
   "source": [
    "#Preset and hold\n",
    "q.v[K] = start\n",
    "q.v[1] = 0\n",
    "\n",
    "#print(\"Current 1: \" + str(q.i[1]))\n",
    "\n",
    "#Set current for channel K\n",
    "#q.i[K] = I\n",
    "\n",
    "# Performing a Voltage sweep\n",
    "#for voltage_sweep in range(start, stop, step):\n",
    "for voltage_sweep in np.arange(start, stop, step):\n",
    "    q.v[K] = float(voltage_sweep)\n",
    "    time.sleep(0.2)\n",
    "    averaged_voltage = 0\n",
    "    averaged_current = 0\n",
    "    averaged_voltage_second_channel = 0\n",
    "    # Performing multiple measurements\n",
    "    for counter in range(samples):\n",
    "        measured_voltage = q.v[K]\n",
    "        measured_current = q.i[K]\n",
    "        measured_current_second_channel = q.i[K2]\n",
    "        time_ = time.time_ns()\n",
    "        averaged_voltage += measured_voltage\n",
    "        averaged_current += measured_current    \n",
    "        averaged_current_second_channel += measured_current_second_channel\n",
    "        #measured_voltage_second_channel = q.v[2]\n",
    "        #averaged_voltage_second_channel += measured_voltage_second_channel\n",
    "\n",
    "    # Averaging the measurements and file logging\n",
    "    averaged_voltage /= samples\n",
    "    averaged_current /= samples\n",
    "    if(averaged_current):\n",
    "        derived_resistance = (averaged_voltage/averaged_current)*1000\n",
    "    else:\n",
    "        derived_resistance = 0\n",
    "    #averaged_voltage_second_channel /= samples\n",
    "    averaged_current_second_channel /= samples\n",
    "    averaged_voltage_list.append(averaged_voltage)\n",
    "    averaged_current_list.append(averaged_current)\n",
    "    derived_resistance_list.append(derived_resistance)\n",
    "    averaged_current_second_channel_list.append(averaged_current_second_channel)\n",
    "    #averaged_voltage_second_channel_list.append(averaged_voltage_second_channel)\n",
    "    meas_file.write('{:+010.6f}\\t{:+010.6f}\\t{:+010.6f}\\n' .format(averaged_voltage,  averaged_current, averaged_current_second_channel))\n",
    "    os.system('clear')  # or cls\n",
    "    print('Percentuale di completamento: ' + str(math.trunc(((voltage_sweep-start)/(stop-start))*100)) + \" %\")\n",
    "\n",
    "# Video Debugging    \n",
    "print(\"Channel {:} set to {:} V, measured {:} V and {:} mA\\n\".format(K, voltage_sweep, averaged_voltage, averaged_current))\n",
    "print(\"The derived resistance is: {:} Ohm\\n\".format(derived_resistance))\n",
    "print(\"Voltage list: \\n\", averaged_voltage_list)\n",
    "print(\"Current list: \\n\", averaged_current_list)\n",
    "print(\"Current second channel list: \\n\", averaged_current_second_channel_list)\n",
    "\n",
    "# Plot results\n",
    "print(\"Inizio dei plot\")\n",
    "fig, axs = plt.subplots(2)\n",
    "axs[0].plot(averaged_voltage_list, averaged_current_list)\n",
    "axs[0].set_title('Voltage [Channel' + str(K) + '] vs Current [Channel' + str(K) +']')\n",
    "axs[0].set_xlabel('Voltage [V]')\n",
    "axs[0].set_ylabel('Current [mA]')\n",
    "axs[1].plot(averaged_voltage_list, averaged_current_second_channel_list)\n",
    "axs[1].set_title('Voltage [Channel' + str(K) + '] vs Current [Channel' + str(2) +']')\n",
    "axs[1].set_xlabel('Voltage [V]')\n",
    "axs[1].set_ylabel('Current [mA]')\n",
    "plt.tight_layout()\n",
    "plt.savefig('Channel_' + str(K) + '_sweep_' + str(start) + '-' + str(stop) + '_step_' + str(step) + '.png')\n",
    "\n",
    "print(\"Fine dei plot\")\n",
    "\n",
    "\n",
    "# Close the log file\n",
    "meas_file.close()\n",
    "\n",
    "# Set all channels to zero\n",
    "q.v[:] = 0\n",
    "#q.i[:] = 0\n",
    "\n",
    "# Close the communication with the driver\n",
    "q.close()\n",
    "print(\"Programma terminato\")"
   ]
  },
  {
   "cell_type": "code",
   "execution_count": null,
   "metadata": {},
   "outputs": [],
   "source": []
  }
 ],
 "metadata": {
  "kernelspec": {
   "display_name": "Python 3",
   "language": "python",
   "name": "python3"
  },
  "language_info": {
   "codemirror_mode": {
    "name": "ipython",
    "version": 3
   },
   "file_extension": ".py",
   "mimetype": "text/x-python",
   "name": "python",
   "nbconvert_exporter": "python",
   "pygments_lexer": "ipython3",
   "version": "3.8.8"
  }
 },
 "nbformat": 4,
 "nbformat_minor": 2
}
